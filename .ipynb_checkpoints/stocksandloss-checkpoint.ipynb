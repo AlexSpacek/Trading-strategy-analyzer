{
 "cells": [
  {
   "cell_type": "code",
   "execution_count": 1,
   "metadata": {},
   "outputs": [],
   "source": [
    "# IMPORTS\n",
    "\n",
    "import scraper as sc\n",
    "import analyzer as an\n",
    "\n",
    "# DEFINITION OF REQUIRED DATA\n",
    "# stock handle, all caps, without $, currently only one at a time is allowed\n",
    "stockHandle = \"TSLA\"\n",
    "# number of days, all data are loaded from today to - number of specified days\n",
    "ndays = 7\n"
   ]
  },
  {
   "cell_type": "code",
   "execution_count": 2,
   "metadata": {},
   "outputs": [
    {
     "name": "stdout",
     "output_type": "stream",
     "text": [
      "   _____                                \n",
      "  / ___/______________ _____  ___  _____\n",
      "  \\__ \\/ ___/ ___/ __ `/ __ \\/ _ \\/ ___/\n",
      " ___/ / /__/ /  / /_/ / /_/ /  __/ /    \n",
      "/____/\\___/_/   \\__,_/ .___/\\___/_/     \n",
      "                    /_/                 \n",
      "\n",
      "Version 0.1\n",
      "\n",
      "Scraping for stock(s): TSLA\n",
      "\n",
      "Scraping https://finance.yahoo.com/\n",
      "Status: started\n",
      "Status: completed\n",
      "data saved as .data, .info\n"
     ]
    }
   ],
   "source": [
    "stock = sc.scrap(stockHandle, ndays)"
   ]
  },
  {
   "cell_type": "code",
   "execution_count": null,
   "metadata": {},
   "outputs": [],
   "source": []
  }
 ],
 "metadata": {
  "kernelspec": {
   "display_name": "Python 3",
   "language": "python",
   "name": "python3"
  },
  "language_info": {
   "codemirror_mode": {
    "name": "ipython",
    "version": 3
   },
   "file_extension": ".py",
   "mimetype": "text/x-python",
   "name": "python",
   "nbconvert_exporter": "python",
   "pygments_lexer": "ipython3",
   "version": "3.8.5"
  }
 },
 "nbformat": 4,
 "nbformat_minor": 4
}
