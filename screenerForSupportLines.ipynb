{
 "cells": [
  {
   "cell_type": "markdown",
   "metadata": {},
   "source": [
    "# Single analysis notebook\n",
    "\n",
    "This notebook aims to create enviroment to simply test strategies developed in Stocks & Loss system for python"
   ]
  },
  {
   "cell_type": "code",
   "execution_count": 1,
   "metadata": {},
   "outputs": [],
   "source": [
    "# imports \n",
    "from scraper import stock_daily\n",
    "from analyzer import Analyzer\n",
    "from IPython.display import display\n",
    "import pandas as pd\n",
    "import datetime as dt\n",
    "import numpy as np\n",
    "import matplotlib.pyplot as plt\n",
    "import indicators as ind\n",
    "import warnings\n",
    "\n",
    "warnings.filterwarnings('ignore')"
   ]
  },
  {
   "cell_type": "markdown",
   "metadata": {},
   "source": [
    "## Settings\n",
    "* Select stock ticker\n",
    "* Define buy and sell strategy (buystrat and sellstrat)\n",
    "* Define if you want to run stop loss and what value\n",
    "* Same with profit taker"
   ]
  },
  {
   "cell_type": "code",
   "execution_count": 2,
   "metadata": {},
   "outputs": [],
   "source": [
    "xls = pd.ExcelFile('TickerRussel2000.xls')\n",
    "# stop loss\n",
    "sl = True\n",
    "slval = 0.04\n",
    "# profit taker\n",
    "pt = False\n",
    "ptval = 0.2\n",
    "# repeteated buys\n",
    "rb = False"
   ]
  },
  {
   "cell_type": "markdown",
   "metadata": {},
   "source": [
    "## Running calculation"
   ]
  },
  {
   "cell_type": "code",
   "execution_count": 3,
   "metadata": {},
   "outputs": [
    {
     "data": {
      "text/html": [
       "<div>\n",
       "<style scoped>\n",
       "    .dataframe tbody tr th:only-of-type {\n",
       "        vertical-align: middle;\n",
       "    }\n",
       "\n",
       "    .dataframe tbody tr th {\n",
       "        vertical-align: top;\n",
       "    }\n",
       "\n",
       "    .dataframe thead th {\n",
       "        text-align: right;\n",
       "    }\n",
       "</style>\n",
       "<table border=\"1\" class=\"dataframe\">\n",
       "  <thead>\n",
       "    <tr style=\"text-align: right;\">\n",
       "      <th></th>\n",
       "      <th>Sheet1</th>\n",
       "    </tr>\n",
       "  </thead>\n",
       "  <tbody>\n",
       "    <tr>\n",
       "      <th>1</th>\n",
       "      <td>AMC</td>\n",
       "    </tr>\n",
       "    <tr>\n",
       "      <th>2</th>\n",
       "      <td>NTLA</td>\n",
       "    </tr>\n",
       "    <tr>\n",
       "      <th>3</th>\n",
       "      <td>CROX</td>\n",
       "    </tr>\n",
       "    <tr>\n",
       "      <th>4</th>\n",
       "      <td>LSCC</td>\n",
       "    </tr>\n",
       "    <tr>\n",
       "      <th>5</th>\n",
       "      <td>TTEK</td>\n",
       "    </tr>\n",
       "    <tr>\n",
       "      <th>...</th>\n",
       "      <td>...</td>\n",
       "    </tr>\n",
       "    <tr>\n",
       "      <th>1980</th>\n",
       "      <td>DMS</td>\n",
       "    </tr>\n",
       "    <tr>\n",
       "      <th>1981</th>\n",
       "      <td>GBL</td>\n",
       "    </tr>\n",
       "    <tr>\n",
       "      <th>1982</th>\n",
       "      <td>WLLBW</td>\n",
       "    </tr>\n",
       "    <tr>\n",
       "      <th>1983</th>\n",
       "      <td>PDLI</td>\n",
       "    </tr>\n",
       "    <tr>\n",
       "      <th>1984</th>\n",
       "      <td>GTXI</td>\n",
       "    </tr>\n",
       "  </tbody>\n",
       "</table>\n",
       "<p>1984 rows × 1 columns</p>\n",
       "</div>"
      ],
      "text/plain": [
       "     Sheet1\n",
       "1       AMC\n",
       "2      NTLA\n",
       "3      CROX\n",
       "4      LSCC\n",
       "5      TTEK\n",
       "...     ...\n",
       "1980    DMS\n",
       "1981    GBL\n",
       "1982  WLLBW\n",
       "1983   PDLI\n",
       "1984   GTXI\n",
       "\n",
       "[1984 rows x 1 columns]"
      ]
     },
     "metadata": {},
     "output_type": "display_data"
    },
    {
     "name": "stdout",
     "output_type": "stream",
     "text": [
      "- XTSLA: No data found, symbol may be delisted\n",
      "- JWA: No data found, symbol may be delisted\n",
      "- MOGA: No data found, symbol may be delisted\n",
      "- LGFB: No data found, symbol may be delisted\n",
      "- CWENA: No data found, symbol may be delisted\n",
      "- PMVP: CircuitBreaker 'redis' is OPEN and does not permit further calls\n",
      "- KIDS: CircuitBreaker 'redis' is OPEN and does not permit further calls\n",
      "- SPNS: CircuitBreaker 'redis' is OPEN and does not permit further calls\n",
      "- VVI: CircuitBreaker 'redis' is OPEN and does not permit further calls\n",
      "- LGFA: No data found, symbol may be delisted\n",
      "- MSFUT: No data found, symbol may be delisted\n",
      "- ETD: No data found for this date range, symbol may be delisted\n",
      "- GEFB: No data found, symbol may be delisted\n",
      "stock not found\n",
      "- CRDA: No data found for this date range, symbol may be delisted\n",
      "- VIA: No data found for this date range, symbol may be delisted\n",
      "- -: No data found, symbol may be delisted\n",
      "- ADRO: No data found, symbol may be delisted\n",
      "- PDLI: No data found, symbol may be delisted\n",
      "- GTXI: No data found, symbol may be delisted\n"
     ]
    }
   ],
   "source": [
    "chosen = pd.DataFrame()\n",
    "fundTickers = pd.DataFrame()\n",
    "Tickers = pd.DataFrame()\n",
    "fundTickers[\"Fund/sector name\"] = xls.sheet_names\n",
    "# print(fundTickers)\n",
    "# Tickers = pd.DataFrame(,columns=funTickers[\"Index fund name\"])\n",
    "for i in range(len(xls.sheet_names)):\n",
    "    sheet1 = pd.read_excel(xls, i)\n",
    "    fundTickers.loc[i,[\"Fund/sector ticker\"]] = sheet1.columns[1]\n",
    "    Tickers[fundTickers.loc[i,[\"Fund/sector name\"]]] = sheet1[sheet1.columns[1]][1:]\n",
    "pd.set_option('display.expand_frame_repr', False)    \n",
    "display(Tickers)\n",
    "# I have the initialization here on purpose, to measure its impact\n",
    "col = [\"Ticker\", \"Trades\", \"Good trades\", \"Profit[%]\", \"Profit[$]\", \"Hold[%]\"]\n",
    "results = [None] * Tickers.columns.shape[0]\n",
    "for k in range(Tickers.columns.shape[0]):\n",
    "    # when I tried to initialize results as [dataframe] * 10 it created list of identical dataframes and when i changed one, it changed them all. Interesting\n",
    "    results[k] = pd.DataFrame(data=np.zeros([Tickers.shape[0], len(col)]),columns=col)\n",
    "# iterate over columns\n",
    "i = 0 \n",
    "# print(results)\n",
    "for label, tic in Tickers.iteritems():\n",
    "    # print(tic)\n",
    "    # iterate over items in sectors / indexes\n",
    "    for j, val in tic.iteritems():\n",
    "        # j starts at 1, instead of usual 0 => reason why there is -1 everywhere\n",
    "        # analyze stock\n",
    "        try:\n",
    "            stock = stock_daily(val, save=False)\n",
    "            trades = Analyzer(ticker=val,data=stock.data)\n",
    "            supportLevels = trades.supportLevels()\n",
    "            resistanceLevels = trades.resistanceLevels()\n",
    "            smaLine=ind.sma(stock.data,200,price=\"Close\")[\"SMA\"]\n",
    "            # print(supportLevels[0])\n",
    "            for i in range(len(supportLevels)):\n",
    "                #check for similar values\n",
    "                # print(i)\n",
    "                # print(supportLevels[0:i+1])\n",
    "                # print(supportLevels[0:i])\n",
    "                # print(supportLevels[i-1]-supportLevels[i])\n",
    "                if i==0:\n",
    "                    if (stock.data[\"Close\"].iat[-1]-supportLevels[i])/supportLevels[i]<0.02 and stock.data[\"Close\"].iat[-1]-supportLevels[i]>0 and (stock.data[\"Close\"].iat[-1]-smaLine.iat[-1])>0:\n",
    "                        chosen = chosen.append({\"Level type\": 'support',\"Value\": supportLevels[i],\"Ticker\": stock.ticker, \"Current\": stock.data[\"Close\"].iat[-1]}, ignore_index=True)    \n",
    "                elif i>0 and all(abs(supportLevels[0:i]-supportLevels[i])/supportLevels[i]>0.005):\n",
    "                    if (stock.data[\"Close\"].iat[-1]-supportLevels[i])/supportLevels[i]<0.02 and stock.data[\"Close\"].iat[-1]-supportLevels[i]>0 and (stock.data[\"Close\"].iat[-1]-smaLine.iat[-1])>0:\n",
    "                        chosen = chosen.append({\"Level type\": 'support',\"Value\": supportLevels[i],\"Ticker\": stock.ticker, \"Current\": stock.data[\"Close\"].iat[-1]}, ignore_index=True)\n",
    "            for i in range(len(resistanceLevels)):\n",
    "                if i==0:\n",
    "                    if (stock.data[\"Close\"].iat[-1]-resistanceLevels[i])/resistanceLevels[i]<0.02 and stock.data[\"Close\"].iat[-1]-resistanceLevels[i]>0 and (stock.data[\"Close\"].iat[-1]-smaLine.iat[-1])>0:\n",
    "                        chosen = chosen.append({\"Level type\": 'resistance',\"Value\": resistanceLevels[i],\"Ticker\": stock.ticker, \"Current\": stock.data[\"Close\"].iat[-1]}, ignore_index=True) \n",
    "                elif i>0 and all(abs(resistanceLevels[0:i]-resistanceLevels[i])/resistanceLevels[i]>0.005):\n",
    "                    if (stock.data[\"Close\"].iat[-1]-resistanceLevels[i])/resistanceLevels[i]<0.02 and stock.data[\"Close\"].iat[-1]-resistanceLevels[i]>0 and (stock.data[\"Close\"].iat[-1]-smaLine.iat[-1])>0:\n",
    "                        chosen = chosen.append({\"Level type\": 'resistance',\"Value\": resistanceLevels[i],\"Ticker\": stock.ticker, \"Current\": stock.data[\"Close\"].iat[-1]}, ignore_index=True) \n",
    "        except:\n",
    "            print('stock not found')                      "
   ]
  },
  {
   "cell_type": "code",
   "execution_count": 4,
   "metadata": {},
   "outputs": [],
   "source": [
    "# print(chosen)\n",
    "chosen.to_excel('suportyRussel.xlsx')\n"
   ]
  }
 ],
 "metadata": {
  "interpreter": {
   "hash": "0d0b38822259f8116a03f05c34cfa0235084065e1c7246efe532ebb10e7723c6"
  },
  "kernelspec": {
   "display_name": "Python 3.9.5 64-bit (conda)",
   "name": "python3"
  },
  "language_info": {
   "codemirror_mode": {
    "name": "ipython",
    "version": 3
   },
   "file_extension": ".py",
   "mimetype": "text/x-python",
   "name": "python",
   "nbconvert_exporter": "python",
   "pygments_lexer": "ipython3",
   "version": "3.9.5"
  },
  "orig_nbformat": 4
 },
 "nbformat": 4,
 "nbformat_minor": 2
}
