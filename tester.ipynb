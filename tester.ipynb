{
 "cells": [
  {
   "cell_type": "markdown",
   "source": [
    "# Tester notebook\r\n",
    "\r\n",
    "This notebook aims to create enviroment to simply test strategies developed in Stocks & Loss system for python"
   ],
   "metadata": {}
  },
  {
   "cell_type": "code",
   "execution_count": 1,
   "source": [
    "# imports \n",
    "from scraper import stock_daily\n",
    "from analyzer import Analyzer\n",
    "import numpy as np\n",
    "import pandas as pd\n",
    "from IPython.display import display"
   ],
   "outputs": [],
   "metadata": {}
  },
  {
   "cell_type": "markdown",
   "source": [
    "## Select stocks"
   ],
   "metadata": {}
  },
  {
   "cell_type": "code",
   "execution_count": 7,
   "metadata": {},
   "outputs": [
    {
     "output_type": "stream",
     "name": "stdout",
     "text": [
      "   Technology Financial Energy Industrial Health Care Consumer Staples Materials Metals & Mining Biotechnology Semiconductor Home Construction Retail\n1        AAPL     BRK.B    XOM        HON         JNJ               PG       LIN             CRS          AMGN           TSM               DHI    GME\n2        MSFT       JPM    CVX        UNP         UNH               KO       APD             FCX          GILD          NVDA               LEN   MGNI\n3           V       BAC    COP        CAT         ABT              WMT       SHW              HL          ILMN          ASML               NVR    SIG\n4        NVDA       WFC    SLB        UPS        ABBV              PEP       ECL             CMC          MRNA          INTC               PHM   RCII\n5          MA         C    EOG         BA         PFE               MO       FCX             WOR          VRTX          AMAT               LOW   REAL\n6        PYPL        GS    PSX         GE         MRK               PM       NEM            KALU          REGN            MU                HD    DBI\n7        INTC        MS    MPC         DE         TMO             MDLZ       DOW             ATI          BIIB          AVGO               SHW   PLCE\n8        ADBE       BLK    VLO        RTX         LLY             COST        DD            CENX          ALXN           TXN               BLD   BOOT\n9         CRM      SCHW    PXD        MMM         MDT               EL       IFF              RS          SGEN          NXPI               TOL    KSS\n10       AVGO       AXP    KMI        LMT         DHR               CL      CTVA              AA           AZN          LRCX               MAS   SPWH\n11       CSCO      SPGI    WMB        CSX         BMY              KMB       PPG            STLD          HZNP           ADI              TMHC    BIG\n12        ACN       TFC    OXY        NSC        AMGN              SYY       BLL             NUE          RPRX           AMD               KBH   PRTY\n13        TXN        CB    OKE        FDX         CVS              STZ       LYB             CDE          INCY          QCOM              FBHS   BLNK\n14       QCOM       CME    HAL        ITW        ISRG              WBA       VMC            ARCH          ALNY          KLAC               MTH   HIBB\n15       ORCL       PNC    HES        ETN         SYK              GIS       MLM             CMP          BGNE          CDNS              TREX     LB\n16       AMAT       USB    BKR        EMR        GILD             MNST        IP             HCC          NVAX          XLNX               MHK    LAD\n17        IBM       ICE    DVN        NOC          CI              ADM       ALB             CLF            GH          SWKS               FND    SBH\n18        NOW       MMC   FANG         WM        ANTM               KR       NUE            RGLD          BMRN          MCHP               LII      M\n19       INTU       COF    MRO        JCI         ZTS              KHC      AMCR             NEM          BBIO           STM               MDC    DKS\n20         MU       AON    APA        ROP         BDX              CLX        CE               X          NBIX          MXIM              BLDR    ANF\n21        AMD       PGR    COG        LHX        ILMN              HSY       EMN            MTRN          MRTX           TER                OC    AEO\n22        FIS       MCO    NOV         GD         BSX              MKC       AVY            ARNC          PRAH          MRVL               IBP   PRTS\n23       LRCX       MET    HFC        CMI        VRTX              TSN       FMC            SCHN           SNY          QRVO              LGIH   EXPE\n24        ADP       AIG  SSIXX         PH          EW              CHD       PKG           SSIXX          JAZZ            ON               TPH   SSTK\n25       FISV       TRV    CXO         TT         HUM              CAG       WRK           SSIXX          RARE          OLED               WSO    GES\n"
     ]
    }
   ],
   "source": [
    "xls = pd.ExcelFile('TickerPerSector.xls')\n",
    "fundTickers = pd.DataFrame()\n",
    "Tickers = pd.DataFrame()\n",
    "fundTickers[\"Fund/sector name\"] = xls.sheet_names\n",
    "# Tickers = pd.DataFrame(,columns=funTickers[\"Index fund name\"])\n",
    "for i in range(len(xls.sheet_names)):\n",
    "    sheet1 = pd.read_excel(xls, i)\n",
    "    fundTickers.loc[i,[\"Index fund ticker\"]] = sheet1.columns[1]\n",
    "    Tickers[fundTickers.loc[i,[\"Fund/sector name\"]]] = sheet1[sheet1.columns[1]][1:]\n",
    "pd.set_option('display.expand_frame_repr', False)    \n",
    "print(Tickers)"
   ]
  },
  {
   "cell_type": "code",
   "execution_count": 8,
   "source": [
    "ticker_name = \"XELB\""
   ],
   "outputs": [],
   "metadata": {}
  },
  {
   "cell_type": "code",
   "execution_count": 9,
   "source": [
    "anal = Analyzer(ticker=ticker_name,data=stock_daily(ticker_name, save=False).data)\n",
    "\n",
    "anal.strategy(buyStrategy=['Mcstoch_ut1','Mcstoch_ut2', 'Mcstoch_ut3', 'Mcstoch_ut4'],sellStrategy=['Mcstoch'],stopLoss=True,stopLossValue=0.05,profitTaker=True,profitTakerValue=0.1)\n",
    "tradeSummary = anal.profit(capitalForEachTrade=400,comission=2)"
   ],
   "outputs": [],
   "metadata": {}
  },
  {
   "cell_type": "code",
   "execution_count": 10,
   "source": [
    "profitAbsolute = tradeSummary[\"Profit[$]\"].sum()\n",
    "profitRelative = tradeSummary[\"Profit[%]\"].sum()\n",
    "profitByHolding = 100*((anal.data[\"Close\"].iloc[-1]-anal.data[\"Close\"].iloc[0])/anal.data[\"Close\"].iloc[0])\n",
    "\n",
    "print('Absolute profit during last year: ',np.round(profitAbsolute,2),'$')\n",
    "print('Relative profit during last year: ',np.round(profitRelative,2),'%')\n",
    "print('Relative profit by holding during last year: ',np.round(profitByHolding,2),'%')"
   ],
   "outputs": [
    {
     "output_type": "stream",
     "name": "stdout",
     "text": [
      "Absolute profit during last year:  0.48 $\nRelative profit during last year:  0.12 %\nRelative profit by holding during last year:  147.75 %\n"
     ]
    }
   ],
   "metadata": {}
  },
  {
   "cell_type": "code",
   "execution_count": 11,
   "source": [
    "display(tradeSummary)"
   ],
   "outputs": [
    {
     "output_type": "display_data",
     "data": {
      "text/plain": "     Buy date  Buy price  Buy value    Position  Sell date  Sell price  Sell value  Comission  Good trade?  Profit[%]  Profit[$]\n0  2020-08-25     0.8404        400  475.963838 2020-08-26    0.809600  385.340321          2          0.0  -4.164920 -16.659679\n1  2020-10-15     0.8711        400  459.189526 2020-10-16    0.958210  440.000000          2          1.0   9.500000  38.000000\n2  2020-10-30     0.8896        400  449.640298 2020-11-02    0.845120  380.000000          2          0.0  -5.500000 -22.000000\n3  2020-11-03     0.8900        400  449.438209 2020-11-04    0.845500  380.000000          2          0.0  -5.500000 -22.000000\n4  2020-11-05     0.9499        400  421.096970 2020-11-09    0.902405  380.000000          2          0.0  -5.500000 -22.000000\n5  2020-11-18     1.1700        400  341.880354 2020-11-19    1.111500  380.000000          2          0.0  -5.500000 -22.000000\n6  2020-12-04     1.0900        400  366.972466 2020-12-07    1.035500  380.000000          2          0.0  -5.500000 -22.000000\n7  2020-12-09     1.0300        400  388.349525 2020-12-10    1.133000  440.000000          2          1.0   9.500000  38.000000\n8  2020-12-14     1.1100        400  360.360356 2020-12-15    1.221000  440.000000          2          1.0   9.500000  38.000000\n9  2020-12-24     1.1400        400  350.877197 2020-12-29    1.254000  440.000000          2          1.0   9.500000  38.000000\n10 2021-01-21     1.4000        400  285.714291 2021-01-25    1.540000  440.000000          2          1.0   9.500000  38.000000\n11 2021-03-01     1.8400        400  217.391300 2021-03-02    1.748000  380.000000          2          0.0  -5.500000 -22.000000\n12 2021-03-03     1.7200        400  232.558136 2021-03-04    1.634000  380.000000          2          0.0  -5.500000 -22.000000\n13 2021-03-08     1.5900        400  251.572322 2021-03-10    1.749000  440.000000          2          1.0   9.500000  38.000000\n14 2021-03-31     1.9900        400  201.005024 2021-04-05    2.189000  440.000000          2          1.0   9.500000  38.000000\n15 2021-04-21     1.7700        400  225.988703 2021-04-22    1.681500  380.000000          2          0.0  -5.500000 -22.000000\n16 2021-05-24     2.7400        400  145.985401 2021-05-25    2.603000  380.000000          2          0.0  -5.500000 -22.000000\n17 2021-06-07     2.4600        400  162.601623 2021-06-08    2.337000  380.000000          2          0.0  -5.500000 -22.000000\n18 2021-06-09     2.4700        400  161.943318 2021-06-10    2.440000  395.141705          2          0.0  -1.714574  -6.858295\n19 2021-06-16     2.2500        400  177.777778 2021-06-17    2.137500  380.000000          2          0.0  -5.500000 -22.000000",
      "text/html": "<div>\n<style scoped>\n    .dataframe tbody tr th:only-of-type {\n        vertical-align: middle;\n    }\n\n    .dataframe tbody tr th {\n        vertical-align: top;\n    }\n\n    .dataframe thead th {\n        text-align: right;\n    }\n</style>\n<table border=\"1\" class=\"dataframe\">\n  <thead>\n    <tr style=\"text-align: right;\">\n      <th></th>\n      <th>Buy date</th>\n      <th>Buy price</th>\n      <th>Buy value</th>\n      <th>Position</th>\n      <th>Sell date</th>\n      <th>Sell price</th>\n      <th>Sell value</th>\n      <th>Comission</th>\n      <th>Good trade?</th>\n      <th>Profit[%]</th>\n      <th>Profit[$]</th>\n    </tr>\n  </thead>\n  <tbody>\n    <tr>\n      <th>0</th>\n      <td>2020-08-25</td>\n      <td>0.8404</td>\n      <td>400</td>\n      <td>475.963838</td>\n      <td>2020-08-26</td>\n      <td>0.809600</td>\n      <td>385.340321</td>\n      <td>2</td>\n      <td>0.0</td>\n      <td>-4.164920</td>\n      <td>-16.659679</td>\n    </tr>\n    <tr>\n      <th>1</th>\n      <td>2020-10-15</td>\n      <td>0.8711</td>\n      <td>400</td>\n      <td>459.189526</td>\n      <td>2020-10-16</td>\n      <td>0.958210</td>\n      <td>440.000000</td>\n      <td>2</td>\n      <td>1.0</td>\n      <td>9.500000</td>\n      <td>38.000000</td>\n    </tr>\n    <tr>\n      <th>2</th>\n      <td>2020-10-30</td>\n      <td>0.8896</td>\n      <td>400</td>\n      <td>449.640298</td>\n      <td>2020-11-02</td>\n      <td>0.845120</td>\n      <td>380.000000</td>\n      <td>2</td>\n      <td>0.0</td>\n      <td>-5.500000</td>\n      <td>-22.000000</td>\n    </tr>\n    <tr>\n      <th>3</th>\n      <td>2020-11-03</td>\n      <td>0.8900</td>\n      <td>400</td>\n      <td>449.438209</td>\n      <td>2020-11-04</td>\n      <td>0.845500</td>\n      <td>380.000000</td>\n      <td>2</td>\n      <td>0.0</td>\n      <td>-5.500000</td>\n      <td>-22.000000</td>\n    </tr>\n    <tr>\n      <th>4</th>\n      <td>2020-11-05</td>\n      <td>0.9499</td>\n      <td>400</td>\n      <td>421.096970</td>\n      <td>2020-11-09</td>\n      <td>0.902405</td>\n      <td>380.000000</td>\n      <td>2</td>\n      <td>0.0</td>\n      <td>-5.500000</td>\n      <td>-22.000000</td>\n    </tr>\n    <tr>\n      <th>5</th>\n      <td>2020-11-18</td>\n      <td>1.1700</td>\n      <td>400</td>\n      <td>341.880354</td>\n      <td>2020-11-19</td>\n      <td>1.111500</td>\n      <td>380.000000</td>\n      <td>2</td>\n      <td>0.0</td>\n      <td>-5.500000</td>\n      <td>-22.000000</td>\n    </tr>\n    <tr>\n      <th>6</th>\n      <td>2020-12-04</td>\n      <td>1.0900</td>\n      <td>400</td>\n      <td>366.972466</td>\n      <td>2020-12-07</td>\n      <td>1.035500</td>\n      <td>380.000000</td>\n      <td>2</td>\n      <td>0.0</td>\n      <td>-5.500000</td>\n      <td>-22.000000</td>\n    </tr>\n    <tr>\n      <th>7</th>\n      <td>2020-12-09</td>\n      <td>1.0300</td>\n      <td>400</td>\n      <td>388.349525</td>\n      <td>2020-12-10</td>\n      <td>1.133000</td>\n      <td>440.000000</td>\n      <td>2</td>\n      <td>1.0</td>\n      <td>9.500000</td>\n      <td>38.000000</td>\n    </tr>\n    <tr>\n      <th>8</th>\n      <td>2020-12-14</td>\n      <td>1.1100</td>\n      <td>400</td>\n      <td>360.360356</td>\n      <td>2020-12-15</td>\n      <td>1.221000</td>\n      <td>440.000000</td>\n      <td>2</td>\n      <td>1.0</td>\n      <td>9.500000</td>\n      <td>38.000000</td>\n    </tr>\n    <tr>\n      <th>9</th>\n      <td>2020-12-24</td>\n      <td>1.1400</td>\n      <td>400</td>\n      <td>350.877197</td>\n      <td>2020-12-29</td>\n      <td>1.254000</td>\n      <td>440.000000</td>\n      <td>2</td>\n      <td>1.0</td>\n      <td>9.500000</td>\n      <td>38.000000</td>\n    </tr>\n    <tr>\n      <th>10</th>\n      <td>2021-01-21</td>\n      <td>1.4000</td>\n      <td>400</td>\n      <td>285.714291</td>\n      <td>2021-01-25</td>\n      <td>1.540000</td>\n      <td>440.000000</td>\n      <td>2</td>\n      <td>1.0</td>\n      <td>9.500000</td>\n      <td>38.000000</td>\n    </tr>\n    <tr>\n      <th>11</th>\n      <td>2021-03-01</td>\n      <td>1.8400</td>\n      <td>400</td>\n      <td>217.391300</td>\n      <td>2021-03-02</td>\n      <td>1.748000</td>\n      <td>380.000000</td>\n      <td>2</td>\n      <td>0.0</td>\n      <td>-5.500000</td>\n      <td>-22.000000</td>\n    </tr>\n    <tr>\n      <th>12</th>\n      <td>2021-03-03</td>\n      <td>1.7200</td>\n      <td>400</td>\n      <td>232.558136</td>\n      <td>2021-03-04</td>\n      <td>1.634000</td>\n      <td>380.000000</td>\n      <td>2</td>\n      <td>0.0</td>\n      <td>-5.500000</td>\n      <td>-22.000000</td>\n    </tr>\n    <tr>\n      <th>13</th>\n      <td>2021-03-08</td>\n      <td>1.5900</td>\n      <td>400</td>\n      <td>251.572322</td>\n      <td>2021-03-10</td>\n      <td>1.749000</td>\n      <td>440.000000</td>\n      <td>2</td>\n      <td>1.0</td>\n      <td>9.500000</td>\n      <td>38.000000</td>\n    </tr>\n    <tr>\n      <th>14</th>\n      <td>2021-03-31</td>\n      <td>1.9900</td>\n      <td>400</td>\n      <td>201.005024</td>\n      <td>2021-04-05</td>\n      <td>2.189000</td>\n      <td>440.000000</td>\n      <td>2</td>\n      <td>1.0</td>\n      <td>9.500000</td>\n      <td>38.000000</td>\n    </tr>\n    <tr>\n      <th>15</th>\n      <td>2021-04-21</td>\n      <td>1.7700</td>\n      <td>400</td>\n      <td>225.988703</td>\n      <td>2021-04-22</td>\n      <td>1.681500</td>\n      <td>380.000000</td>\n      <td>2</td>\n      <td>0.0</td>\n      <td>-5.500000</td>\n      <td>-22.000000</td>\n    </tr>\n    <tr>\n      <th>16</th>\n      <td>2021-05-24</td>\n      <td>2.7400</td>\n      <td>400</td>\n      <td>145.985401</td>\n      <td>2021-05-25</td>\n      <td>2.603000</td>\n      <td>380.000000</td>\n      <td>2</td>\n      <td>0.0</td>\n      <td>-5.500000</td>\n      <td>-22.000000</td>\n    </tr>\n    <tr>\n      <th>17</th>\n      <td>2021-06-07</td>\n      <td>2.4600</td>\n      <td>400</td>\n      <td>162.601623</td>\n      <td>2021-06-08</td>\n      <td>2.337000</td>\n      <td>380.000000</td>\n      <td>2</td>\n      <td>0.0</td>\n      <td>-5.500000</td>\n      <td>-22.000000</td>\n    </tr>\n    <tr>\n      <th>18</th>\n      <td>2021-06-09</td>\n      <td>2.4700</td>\n      <td>400</td>\n      <td>161.943318</td>\n      <td>2021-06-10</td>\n      <td>2.440000</td>\n      <td>395.141705</td>\n      <td>2</td>\n      <td>0.0</td>\n      <td>-1.714574</td>\n      <td>-6.858295</td>\n    </tr>\n    <tr>\n      <th>19</th>\n      <td>2021-06-16</td>\n      <td>2.2500</td>\n      <td>400</td>\n      <td>177.777778</td>\n      <td>2021-06-17</td>\n      <td>2.137500</td>\n      <td>380.000000</td>\n      <td>2</td>\n      <td>0.0</td>\n      <td>-5.500000</td>\n      <td>-22.000000</td>\n    </tr>\n  </tbody>\n</table>\n</div>"
     },
     "metadata": {}
    }
   ],
   "metadata": {}
  }
 ],
 "metadata": {
  "orig_nbformat": 4,
  "language_info": {
   "name": "python",
   "version": "3.9.5",
   "mimetype": "text/x-python",
   "codemirror_mode": {
    "name": "ipython",
    "version": 3
   },
   "pygments_lexer": "ipython3",
   "nbconvert_exporter": "python",
   "file_extension": ".py"
  },
  "kernelspec": {
   "name": "python3",
   "display_name": "Python 3.9.5 64-bit (conda)"
  },
  "interpreter": {
   "hash": "0d0b38822259f8116a03f05c34cfa0235084065e1c7246efe532ebb10e7723c6"
  }
 },
 "nbformat": 4,
 "nbformat_minor": 2
}