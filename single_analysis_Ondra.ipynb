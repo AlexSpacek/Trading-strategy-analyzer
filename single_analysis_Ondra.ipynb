{
 "cells": [
  {
   "cell_type": "markdown",
   "source": [
    "# Single analysis notebook\r\n",
    "\r\n",
    "This notebook aims to create enviroment to simply test strategies developed in Stocks & Loss system for python"
   ],
   "metadata": {}
  },
  {
   "cell_type": "code",
   "execution_count": null,
   "source": [
    "# imports \r\n",
    "from scraper import stock_daily\r\n",
    "from analyzer import Analyzer\r\n",
    "from IPython.display import display\r\n",
    "\r\n",
    "import datetime as dt\r\n",
    "import numpy as np\r\n",
    "import matplotlib.pyplot as plt"
   ],
   "outputs": [],
   "metadata": {}
  },
  {
   "cell_type": "markdown",
   "source": [
    "## Settings\r\n",
    "* Select stock ticker\r\n",
    "* Define buy and sell strategy (buystrat and sellstrat)\r\n",
    "* Define if you want to run stop loss and what value\r\n",
    "* Same with profit taker"
   ],
   "metadata": {}
  },
  {
   "cell_type": "code",
   "execution_count": null,
   "source": [
    "ticker = \"PLUG\"\r\n",
    "\r\n",
    "buystrat = [\"Mcstoch_ut1\", \"Mcstoch_ut2\", \"Mcstoch_ut3\", \"Mcstoch_ut4\", \"Mcstoch_dt1\"]\r\n",
    "sellstrat = ['Mcstoch']\r\n",
    "\r\n",
    "sl = False\r\n",
    "slval = 0.04\r\n",
    "\r\n",
    "pt = False\r\n",
    "ptval = 0.08\r\n",
    "\r\n",
    "rb = True"
   ],
   "outputs": [],
   "metadata": {}
  },
  {
   "cell_type": "markdown",
   "source": [
    "## Run calculation"
   ],
   "metadata": {}
  },
  {
   "cell_type": "code",
   "execution_count": null,
   "source": [
    "# scraping / loading data\r\n",
    "stock = stock_daily(ticker, save=False)\r\n",
    "# creating analyzer instance\r\n",
    "trades = Analyzer(ticker=ticker, data=stock.data)\r\n",
    "# building strategy\r\n",
    "trades.strategy(buyStrategy=buystrat, sellStrategy=sellstrat,\r\n",
    "    stopLoss=sl ,stopLossValue=slval, profitTaker=pt, profitTakerValue=ptval, repeated_buys=rb)\r\n",
    "# evaluating strategy\r\n",
    "summary = trades.profit(capitalForEachTrade=200, comission=2)\r\n",
    "profitByHolding = 100*((trades.data[\"Close\"].iloc[-1]-trades.data[\"Close\"].iloc[0])/trades.data[\"Close\"].iloc[0])\r\n",
    "\r\n",
    "# dates for plot\r\n",
    "# taking stock.data and changing index to column and Date to index\r\n",
    "dates = stock.data.copy()\r\n",
    "dates[\"index1\"] = dates.index\r\n",
    "dates = dates.set_index(\"Date\")\r\n",
    "\r\n",
    "# find index of buy dates of good trades\r\n",
    "bdg = summary[\"Buy date\"].where(summary[\"Good trade?\"].astype(\"bool\")).dropna().to_numpy()\r\n",
    "sdg = summary[\"Sell date\"].where(summary[\"Good trade?\"].astype(\"bool\")).dropna().to_numpy()\r\n",
    "bdg = dates[\"index1\"].reindex(bdg).to_numpy()\r\n",
    "sdg = dates[\"index1\"].reindex(sdg).to_numpy()\r\n",
    "   \r\n",
    "# find index of buy dates of bad trades\r\n",
    "bdb = summary[\"Buy date\"].where(~summary[\"Good trade?\"].astype(\"bool\")).dropna().to_numpy()\r\n",
    "sdb = summary[\"Sell date\"].where(~summary[\"Good trade?\"].astype(\"bool\")).dropna().to_numpy()\r\n",
    "bdb = dates[\"index1\"].reindex(bdb).to_numpy()\r\n",
    "sdb = dates[\"index1\"].reindex(sdb).to_numpy()"
   ],
   "outputs": [],
   "metadata": {}
  },
  {
   "cell_type": "code",
   "execution_count": null,
   "source": [
    "print('Absolute profit last year:                ',np.round(summary[\"Profit[$]\"].sum(),2),'$')\r\n",
    "print('Relative profit last year:                ',np.round(summary[\"Profit[%]\"].sum(),2),'%')\r\n",
    "print('Relative profit by holding last year:     ',np.round(profitByHolding,2),'%')"
   ],
   "outputs": [],
   "metadata": {}
  },
  {
   "cell_type": "code",
   "execution_count": null,
   "source": [
    "display(summary)"
   ],
   "outputs": [],
   "metadata": {}
  },
  {
   "cell_type": "markdown",
   "source": [
    "## Visualizations\r\n",
    "\r\n",
    "Successful trades are showcased as a light green fill, similarly, failed trades as a red fill"
   ],
   "metadata": {}
  },
  {
   "cell_type": "code",
   "execution_count": null,
   "source": [
    "fig, ax = plt.subplots(ncols=2, figsize=(20,6), gridspec_kw={'width_ratios': [2.5, 1]})\r\n",
    "\r\n",
    "# plot closed prices and highlighted trades\r\n",
    "ax[0].plot(stock.data[\"Close\"], color=\"b\")\r\n",
    "for i, val in enumerate(bdg):\r\n",
    "    ax[0].axvspan(val, sdg[i], alpha=0.3, color=\"g\")\r\n",
    "for i, val in enumerate(bdb):\r\n",
    "    ax[0].axvspan(val, sdb[i], alpha=0.3, color=\"r\")\r\n",
    "ax[0].set_title(ticker + \": Overview of trades\", fontsize=20)\r\n",
    "ax[0].set_ylabel(\"Close price [USD]\", fontsize=16)\r\n",
    "ax[0].set_xlabel(\"Index [-]\", fontsize=16)\r\n",
    "\r\n",
    "gtrades = summary[\"Good trade?\"].sum()\r\n",
    "trades = summary[\"Good trade?\"].size\r\n",
    "# plot piechart with percentage of succesful trades (profit / loss)\r\n",
    "ax[1].pie([gtrades, trades-gtrades], colors=[\"g\",\"r\"], shadow=True, explode=(0.1, 0), autopct=\"%1.1f%%\")\r\n",
    "ax[1].set_title(\"Success rate of trades\", fontsize=20)\r\n",
    "\r\n",
    "fig.tight_layout()"
   ],
   "outputs": [],
   "metadata": {}
  }
 ],
 "metadata": {
  "orig_nbformat": 4,
  "language_info": {
   "name": "python",
   "version": "3.8.8",
   "mimetype": "text/x-python",
   "codemirror_mode": {
    "name": "ipython",
    "version": 3
   },
   "pygments_lexer": "ipython3",
   "nbconvert_exporter": "python",
   "file_extension": ".py"
  },
  "kernelspec": {
   "name": "python3",
   "display_name": "Python 3.8.8 64-bit ('base': conda)"
  },
  "interpreter": {
   "hash": "b3ba2566441a7c06988d0923437866b63cedc61552a5af99d1f4fb67d367b25f"
  }
 },
 "nbformat": 4,
 "nbformat_minor": 2
}