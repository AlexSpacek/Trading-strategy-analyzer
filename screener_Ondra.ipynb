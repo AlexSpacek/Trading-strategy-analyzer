{
 "cells": [
  {
   "cell_type": "markdown",
   "source": [
    "***\r\n",
    "# Screener\r\n",
    "\r\n",
    "Operation:\r\n",
    "1. Define function ```buysig()``` which scrapes stock data, calculates buy signals and returns pandas series holding information when the last buy signal happend and distance from today\r\n",
    "2. Filter results to show only buy signals from last two days\r\n",
    "3. Saves results into excel sheet"
   ],
   "metadata": {}
  },
  {
   "cell_type": "code",
   "execution_count": null,
   "source": [
    "# imports\r\n",
    "from scraper import stock_daily\r\n",
    "from analyzer import Analyzer\r\n",
    "from IPython.display import display\r\n",
    "import datetime as dt\r\n",
    "import time\r\n",
    "import numpy as np\r\n",
    "import pandas as pd\r\n",
    "import matplotlib.pyplot as plt\r\n",
    "import indicators as ind"
   ],
   "outputs": [],
   "metadata": {}
  },
  {
   "cell_type": "markdown",
   "source": [
    "***\r\n",
    "## Define ```buysig()```\r\n",
    "\r\n",
    "* Input: empty pandas series with predefined columns\r\n",
    "* Output: said series with filled results\r\n",
    "\r\n",
    "Scrapes data, calculate indicators and buy signals (depending on strategy), saves results into series and outputs it"
   ],
   "metadata": {}
  },
  {
   "cell_type": "code",
   "execution_count": null,
   "source": [
    "def buysig(result):\r\n",
    "    # SCRAPING\r\n",
    "    try:\r\n",
    "        stock = stock_daily(result[\"ticker\"], save=False)\r\n",
    "    except:\r\n",
    "        print(result[\"ticker\"] + \": Exception occured during data scraping, skipped.\")\r\n",
    "        return result\r\n",
    "    \r\n",
    "    # CREATING BUY SIGNALS\r\n",
    "    # calculating indicators\r\n",
    "    vfi = ind.vfi(stock.data, period=30, coef=0.2, vcoef=1.5)\r\n",
    "    fs = ind.stoch(stock.data, period=5, sk=2, sd=3)\r\n",
    "    ss = ind.stoch(stock.data, period=21, sk=2, sd=5)\r\n",
    "    # calculating VFI histogram trend\r\n",
    "    window = 2\r\n",
    "    vfi_hist = vfi[\"histogram\"].rolling(window=window).apply(lambda x: np.polyfit(np.arange(window), x, 1)[0], raw=True).values\r\n",
    "    vfi_hist = vfi_hist > 0\r\n",
    "    # VFI trend\r\n",
    "    vfi_trend = vfi[\"vfi\"] > vfi[\"vfi_smooth\"]\r\n",
    "    vfi_conf = np.logical_or(vfi_hist, vfi_trend)\r\n",
    "    # calculating fast stochastic trend\r\n",
    "    window = 4\r\n",
    "    fs_conf = fs[\"k\"].rolling(window=window).apply(lambda x: np.polyfit(np.arange(window), x, 1)[0], raw=True).values\r\n",
    "    fs_conf = fs_conf > 0\r\n",
    "    # buy signals\r\n",
    "    conditions = np.logical_and((ss[\"k\"] > ss[\"d\"]).to_numpy(), (ss[\"d\"] >= 0).to_numpy())\r\n",
    "    bss = np.concatenate((np.array([0]), (conditions[:-1] < conditions[1:]))).astype(\"int\")\r\n",
    "    # finalize buy signals\r\n",
    "    bsf = np.logical_and(np.logical_and(fs_conf, vfi_conf), bss)\r\n",
    "    if bsf.sum() == 0:\r\n",
    "        print(result[\"ticker\"] + \": No buying signals generated, skipped.\")\r\n",
    "        return result\r\n",
    "    \r\n",
    "    # SAVING DATA\r\n",
    "    # date of last buy signal and distance from today\r\n",
    "    try:\r\n",
    "        lastindex = np.squeeze(np.where(bsf == True))[-1]\r\n",
    "        result[\"buy_date\"] = stock.data.loc[lastindex,\"Date\"]\r\n",
    "        result[\"distance\"] = stock.data.index[-1] - lastindex\r\n",
    "    except:\r\n",
    "        print(result[\"ticker\"] + \": Something broke during saving, skipped.\")\r\n",
    "        return result\r\n",
    "\r\n",
    "    return result"
   ],
   "outputs": [],
   "metadata": {}
  },
  {
   "cell_type": "markdown",
   "source": [
    "***\r\n",
    "## Run the analysis\r\n",
    "\r\n",
    "Tickers are stored in ```tickers.xlsx``` excel file where multiple sheets are defined. By modifying the *sheets* variable, one can choose which stocks to scan through\r\n",
    "\r\n",
    "Sheets in the excel:\r\n",
    "1. spy - holds all stock tickers present in the SPY ETF\r\n",
    "2. iwm - holds top 600 holdings in the IWM ETF which follows Russell 2000\r\n",
    "3. watchlist - list of stocks I'm personally interested in and found somewhere else, on fintwit, reddit, my own research\r\n",
    "4. longs - stocks I have high conviction in and want to hold long term\r\n"
   ],
   "metadata": {}
  },
  {
   "cell_type": "code",
   "execution_count": null,
   "source": [
    "# which sheets to use:\r\n",
    "# sheets = [\"spy\", \"iwm\", \"watchlist\", \"longs\", \"midcap\", \"largecap\"] # specific scan\r\n",
    "sheets = [\"filtered\"] # full nasdaq, filtered by volume and volatility\r\n",
    "# sheets = [\"test\"]\r\n",
    "\r\n",
    "# read tickers from excel file\r\n",
    "excel = pd.read_excel(\"tickers.xlsx\", sheet_name=sheets)"
   ],
   "outputs": [],
   "metadata": {}
  },
  {
   "cell_type": "code",
   "execution_count": null,
   "source": [
    "# define empty dataframe\r\n",
    "data = pd.DataFrame(columns=[\"ticker\", \"type\", \"buy_date\", \"distance\"])\r\n",
    "# run analysis\r\n",
    "for i in sheets:\r\n",
    "    for j in excel[i][\"ticker\"].to_list():\r\n",
    "        # define series\r\n",
    "        ser = {\"ticker\": j, \"type\": i, \"buy_date\": np.nan, \"distance\": np.nan}\r\n",
    "        ser = pd.Series(data=ser)\r\n",
    "        # delay for better scrapping\r\n",
    "        time.sleep(1)\r\n",
    "        # calculation\r\n",
    "        res = buysig(ser).to_frame().T\r\n",
    "        data = data.append(res, ignore_index=True)"
   ],
   "outputs": [],
   "metadata": {}
  },
  {
   "cell_type": "markdown",
   "source": [
    "***\r\n",
    "## Print & Save results"
   ],
   "metadata": {}
  },
  {
   "cell_type": "code",
   "execution_count": null,
   "source": [
    "# display results\r\n",
    "display(data[data[\"distance\"] < 1].drop_duplicates(subset=\"ticker\").reset_index(drop=True))\r\n",
    "# save data\r\n",
    "data[data[\"distance\"] <= 1].drop_duplicates(subset=\"ticker\").reset_index(drop=True).to_excel(\"Screener-\"+str(dt.date.today())+\".xlsx\")"
   ],
   "outputs": [],
   "metadata": {}
  }
 ],
 "metadata": {
  "orig_nbformat": 4,
  "language_info": {
   "name": "python",
   "version": "3.7.10",
   "mimetype": "text/x-python",
   "codemirror_mode": {
    "name": "ipython",
    "version": 3
   },
   "pygments_lexer": "ipython3",
   "nbconvert_exporter": "python",
   "file_extension": ".py"
  },
  "kernelspec": {
   "name": "python3",
   "display_name": "Python 3.7.10 64-bit ('base': conda)"
  },
  "interpreter": {
   "hash": "b3ba2566441a7c06988d0923437866b63cedc61552a5af99d1f4fb67d367b25f"
  }
 },
 "nbformat": 4,
 "nbformat_minor": 2
}