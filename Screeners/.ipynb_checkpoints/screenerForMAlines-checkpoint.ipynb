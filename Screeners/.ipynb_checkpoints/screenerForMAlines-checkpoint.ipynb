{
 "cells": [
  {
   "cell_type": "markdown",
   "metadata": {},
   "source": [
    "# Single analysis notebook\n",
    "\n",
    "This notebook aims to create enviroment to simply test strategies developed in Stocks & Loss system for python"
   ]
  },
  {
   "cell_type": "code",
   "execution_count": 1,
   "metadata": {},
   "outputs": [],
   "source": [
    "import sys, os.path\n",
    "root_dir = (os.path.abspath(os.path.join(os.path.abspath(''), '..')))\n",
    "sys.path.append(root_dir)\n",
    "import pandas as pd\n",
    "from scraper import stock_daily\n",
    "from analyzer import Analyzer\n",
    "from IPython.display import display\n",
    "import pandas as pd\n",
    "import datetime as dt\n",
    "import numpy as np\n",
    "import matplotlib.pyplot as plt\n",
    "import indicators as ind\n",
    "import warnings\n",
    "\n",
    "warnings.filterwarnings('ignore')"
   ]
  },
  {
   "cell_type": "markdown",
   "metadata": {},
   "source": [
    "## Settings\n",
    "* Select stock ticker\n",
    "* Define buy and sell strategy (buystrat and sellstrat)\n",
    "* Define if you want to run stop loss and what value\n",
    "* Same with profit taker"
   ]
  },
  {
   "cell_type": "code",
   "execution_count": 2,
   "metadata": {},
   "outputs": [],
   "source": [
    "xls = pd.ExcelFile((os.path.abspath(os.path.join(os.path.abspath(''), '..'))) + '/Data/tickers.xlsx')\n",
    "# stop loss\n",
    "sl = True\n",
    "slval = 0.04\n",
    "# profit taker\n",
    "pt = False\n",
    "ptval = 0.2\n",
    "# repeteated buys\n",
    "rb = False"
   ]
  },
  {
   "cell_type": "markdown",
   "metadata": {},
   "source": [
    "## Running calculation"
   ]
  },
  {
   "cell_type": "code",
   "execution_count": null,
   "metadata": {},
   "outputs": [
    {
     "name": "stdout",
     "output_type": "stream",
     "text": [
      "  Fund/sector name\n",
      "0         filtered\n",
      "filtered\n",
      "- ADMS: No data found, symbol may be delisted\n",
      "- ADS: No data found, symbol may be delisted\n",
      "- APR: No data found, symbol may be delisted\n"
     ]
    }
   ],
   "source": [
    "chosen = pd.DataFrame()\n",
    "fundTickers = pd.DataFrame()\n",
    "Tickers = pd.DataFrame()\n",
    "fundTickers[\"Fund/sector name\"] = xls.sheet_names\n",
    "print(fundTickers)\n",
    "# Tickers = pd.DataFrame(,columns=funTickers[\"Index fund name\"])\n",
    "for i in range(len(xls.sheet_names)):\n",
    "    sheet1 = pd.read_excel(xls, i)\n",
    "    fundTickers.loc[i,[\"Fund/sector ticker\"]] = sheet1.columns[1]\n",
    "    Tickers[fundTickers.loc[i,[\"Fund/sector name\"]]] = sheet1[sheet1.columns[1]][1:]\n",
    "pd.set_option('display.expand_frame_repr', False)    \n",
    "# display(Tickers)\n",
    "# I have the initialization here on purpose, to measure its impact\n",
    "col = [\"Ticker\", \"Trades\", \"Good trades\", \"Profit[%]\", \"Profit[$]\", \"Hold[%]\"]\n",
    "results = [None] * Tickers.columns.shape[0]\n",
    "for k in range(Tickers.columns.shape[0]):\n",
    "    # when I tried to initialize results as [dataframe] * 10 it created list of identical dataframes and when i changed one, it changed them all. Interesting\n",
    "    results[k] = pd.DataFrame(data=np.zeros([Tickers.shape[0], len(col)]),columns=col)\n",
    "# iterate over columns\n",
    "i = 0 \n",
    "for label, tic in Tickers.iteritems():\n",
    "    print(label)\n",
    "    # iterate over items in sectors / indexes\n",
    "    for j, val in tic.iteritems():\n",
    "        # j starts at 1, instead of usual 0 => reason why there is -1 everywhere\n",
    "        # analyze stock\n",
    "        try:\n",
    "            stock = stock_daily(val, save=False)\n",
    "            trades = Analyzer(ticker=val,data=stock.data)\n",
    "            SMA = 200\n",
    "            bounces = trades.bouncesFrom_SMA(SMA)\n",
    "            smaLine=ind.sma(stock.data,SMA,price=\"Close\")[\"SMA\"]\n",
    "            dropsBelowSMA = np.where(stock.data[\"Close\"][-200:]-smaLine[-200:]<0)[0]  #we look at stock that are above the given SMA line for the past 100 days\n",
    "            if bounces.size>1 and dropsBelowSMA.size == 0 and (stock.data[\"Close\"].iat[-1]-smaLine.iat[-1])/smaLine.iloc[-1]<0.05: #previous bounces from SMA, above SMA for 100 days and just above SMA the previous day\n",
    "                chosen = chosen.append({\"Bounces\": bounces.size,\"MA\": SMA,\"Ticker\": stock.ticker}, ignore_index=True)\n",
    "                # print(stock.ticker,\"had\",bounces.size,\"bounces from \",SMA,\"SMA in the past\",SMA,\"days and is currently <5% higher.\")            \n",
    "            SMA = 150\n",
    "            bounces = trades.bouncesFrom_SMA(SMA)\n",
    "            smaLine=ind.sma(stock.data,SMA,price=\"Close\")[\"SMA\"]\n",
    "            dropsBelowSMA = np.where(stock.data[\"Close\"][-150:]-smaLine[-150:]<0)[0]\n",
    "            if bounces.size>1 and dropsBelowSMA.size == 0 and (stock.data[\"Close\"].iat[-1]-smaLine.iat[-1])/smaLine.iat[-1]<0.05:\n",
    "                chosen = chosen.append({\"Bounces\": bounces.size,\"MA\": SMA,\"Ticker\": stock.ticker}, ignore_index=True)\n",
    "                # print(stock.ticker,\"had\",bounces.size,\"bounces from \",SMA,\"SMA in the past\",SMA,\"days and is currently <5% higher.\")           \n",
    "            SMA = 100\n",
    "            bounces = trades.bouncesFrom_SMA(SMA)\n",
    "            smaLine=ind.sma(stock.data,SMA,price=\"Close\")[\"SMA\"]\n",
    "            dropsBelowSMA = np.where(stock.data[\"Close\"][-100:]-smaLine[-100:]<0)[0]\n",
    "            if bounces.size>1 and dropsBelowSMA.size == 0 and (stock.data[\"Close\"].iat[-1]-smaLine.iat[-1])/smaLine.iat[-1]<0.05:\n",
    "                chosen = chosen.append({\"Bounces\": bounces.size,\"MA\": SMA,\"Ticker\": stock.ticker}, ignore_index=True)\n",
    "                # print(stock.ticker,\"had\",bounces.size,\"bounces from \",SMA,\"SMA in the past\",SMA,\"days and is currently <5% higher.\")                \n",
    "            SMA = 50\n",
    "            bounces = trades.bouncesFrom_SMA(SMA)\n",
    "            smaLine=ind.sma(stock.data,SMA,price=\"Close\")[\"SMA\"]\n",
    "            dropsBelowSMA = np.where(stock.data[\"Close\"][-50:]-smaLine[-50:]<0)[0]\n",
    "            if bounces.size>1 and dropsBelowSMA.size == 0 and (stock.data[\"Close\"].iat[-1]-smaLine.iat[-1])/smaLine.iat[-1]<0.05:\n",
    "                chosen = chosen.append({\"Bounces\": bounces.size,\"MA\": SMA,\"Ticker\": stock.ticker}, ignore_index=True)\n",
    "                # print(stock.ticker,\"had\",bounces.size,\"bounces from \",SMA,\"SMA in the past\",SMA,\"days and is currently <5% higher.\")                    \n",
    "            SMA = 26\n",
    "            bounces = trades.bouncesFrom_SMA(SMA)\n",
    "            smaLine=ind.sma(stock.data,SMA,price=\"Close\")[\"SMA\"]\n",
    "            dropsBelowSMA = np.where(stock.data[\"Close\"][-26:]-smaLine[-26:]<0)[0]\n",
    "            if bounces.size>1 and dropsBelowSMA.size == 0 and (stock.data[\"Close\"].iat[-1]-smaLine.iat[-1])/smaLine.iat[-1]<0.05:\n",
    "                chosen = chosen.append({\"Bounces\": bounces.size,\"MA\": SMA,\"Ticker\": stock.ticker}, ignore_index=True)\n",
    "                # print(stock.ticker,\"had\",bounces.size,\"bounces from \",SMA,\"SMA in the past\",SMA,\"days and is currently <5% higher.\")                       \n",
    "            SMA = 13\n",
    "            bounces = trades.bouncesFrom_SMA(SMA)\n",
    "            smaLine=ind.sma(stock.data,SMA,price=\"Close\")[\"SMA\"]\n",
    "            dropsBelowSMA = np.where(stock.data[\"Close\"][-13:]-smaLine[-13:]<0)[0]\n",
    "            if bounces.size>1 and dropsBelowSMA.size == 0 and (stock.data[\"Close\"].iat[-1]-smaLine.iat[-1])/smaLine.iat[-1]<0.05:\n",
    "                chosen = chosen.append({\"Bounces\": bounces.size,\"MA\": SMA,\"Ticker\": stock.ticker}, ignore_index=True)\n",
    "                # print(stock.ticker,\"had\",bounces.size,\"bounces from \",SMA,\"SMA in the past\",SMA,\"days and is currently <5% higher.\")                    \n",
    "        except:\n",
    "            results[i].loc[j-1,[\"Ticker\"]] = val         "
   ]
  },
  {
   "cell_type": "code",
   "execution_count": null,
   "metadata": {},
   "outputs": [],
   "source": [
    "print(chosen)\n",
    "chosen.to_excel('smaRussel.xlsx')"
   ]
  },
  {
   "cell_type": "markdown",
   "metadata": {},
   "source": [
    "## Building the trade strategy"
   ]
  },
  {
   "cell_type": "code",
   "execution_count": null,
   "metadata": {},
   "outputs": [],
   "source": [
    "# building buy signals\n",
    "# defining uptrend\n",
    "up = (ind.ema(stock.data, w=13)[\"EMA\"] > ind.ema(stock.data, w=50)[\"EMA\"]).to_numpy()\n",
    "# buy signals in uptrend\n",
    "bsu = np.logical_and(trades.mb_stoch(period=21, sk=3, sd=5, treshold=20), up)\n",
    "# buy signals in downtrend\n",
    "bsd = np.logical_and(trades.mb_stoch(period=21, sk=3, sd=5, treshold=50), np.logical_not(up))\n",
    "# finalize buy signals\n",
    "bsf = np.logical_or(bsu, bsd)\n",
    "#buy signal from sma cross\n",
    "\n",
    "# throw exception if buy signal is empty\n",
    "if bsf.sum() == 0:\n",
    "    raise RuntimeError(\"No buy signals were generated by this strategy.\")\n",
    "# for N buy signals, create N sell vectors where Nth column will be the sell signal for Nth buy signal, \n",
    "# some sell methods that are independent will have copied columns\n",
    "bsf2 = bsf*1\n",
    "ss = trades.ms_smacross(fast=5, slow=20)\n",
    "\n",
    "ssf = np.repeat([ss,], repeats=np.sum(bsf), axis=0)\n",
    "# sort signals \n",
    "ss = trades.signalSorter(bsf2,ssf,rb) "
   ]
  },
  {
   "cell_type": "code",
   "execution_count": null,
   "metadata": {},
   "outputs": [],
   "source": [
    "# building final strategy\n",
    "trades.strategy(ss, stopLoss=sl, stopLossValue=slval, profitTaker=pt, profitTakerValue=ptval)\n",
    "# evaluating strategy\n",
    "summary = trades.profit(capitalForEachTrade=400, comission=2)\n",
    "profitByHolding = 100*((trades.data[\"Close\"].iloc[-1]-trades.data[\"Close\"].iloc[0])/trades.data[\"Close\"].iloc[0])\n",
    "\n",
    "# dates for plot\n",
    "# taking stock.data and changing index to column and Date to index\n",
    "dates = stock.data.copy()\n",
    "dates[\"index1\"] = dates.index\n",
    "dates = dates.set_index(\"Date\")\n",
    "\n",
    "# find index of buy dates of good trades\n",
    "bdg = summary[\"Buy date\"].where(summary[\"Good trade?\"].astype(\"bool\")).dropna().to_numpy()\n",
    "sdg = summary[\"Sell date\"].where(summary[\"Good trade?\"].astype(\"bool\")).dropna().to_numpy()\n",
    "bdg = dates[\"index1\"].reindex(bdg).to_numpy()\n",
    "sdg = dates[\"index1\"].reindex(sdg).to_numpy()\n",
    "   \n",
    "# find index of buy dates of bad trades\n",
    "bdb = summary[\"Buy date\"].where(~summary[\"Good trade?\"].astype(\"bool\")).dropna().to_numpy()\n",
    "sdb = summary[\"Sell date\"].where(~summary[\"Good trade?\"].astype(\"bool\")).dropna().to_numpy()\n",
    "bdb = dates[\"index1\"].reindex(bdb).to_numpy()\n",
    "sdb = dates[\"index1\"].reindex(sdb).to_numpy()"
   ]
  },
  {
   "cell_type": "markdown",
   "metadata": {},
   "source": [
    "# Results"
   ]
  },
  {
   "cell_type": "code",
   "execution_count": null,
   "metadata": {},
   "outputs": [],
   "source": [
    "print('Absolute profit last year:                ',np.round(summary[\"Profit[$]\"].sum(),2),'$')\n",
    "print('Relative profit last year:                ',np.round(summary[\"Profit[%]\"].sum(),2),'%')\n",
    "print('Relative profit by holding last year:     ',np.round(profitByHolding,2),'%')"
   ]
  },
  {
   "cell_type": "code",
   "execution_count": null,
   "metadata": {},
   "outputs": [],
   "source": [
    "display(summary)"
   ]
  },
  {
   "cell_type": "markdown",
   "metadata": {},
   "source": [
    "## Visualizations\n",
    "\n",
    "Successful trades are showcased as a light green fill, similarly, failed trades as a red fill"
   ]
  },
  {
   "cell_type": "code",
   "execution_count": null,
   "metadata": {},
   "outputs": [],
   "source": [
    "fig, ax = plt.subplots(ncols=2, figsize=(20,6), gridspec_kw={'width_ratios': [2.5, 1]})\n",
    "\n",
    "# plot closed prices and highlighted trades\n",
    "ax[0].plot(stock.data[\"Close\"], color=\"b\")\n",
    "for i, val in enumerate(bdg):\n",
    "    ax[0].axvspan(val, sdg[i], alpha=0.3, color=\"g\")\n",
    "for i, val in enumerate(bdb):\n",
    "    ax[0].axvspan(val, sdb[i], alpha=0.3, color=\"r\")\n",
    "ax[0].set_title(ticker + \": Overview of trades\", fontsize=20)\n",
    "ax[0].set_ylabel(\"Close price [USD]\", fontsize=16)\n",
    "ax[0].set_xlabel(\"Index [-]\", fontsize=16)\n",
    "\n",
    "gtrades = summary[\"Good trade?\"].sum()\n",
    "trades = summary[\"Good trade?\"].size\n",
    "# plot piechart with percentage of succesful trades (profit / loss)\n",
    "ax[1].pie([gtrades, trades-gtrades], colors=[\"g\",\"r\"], shadow=True, explode=(0.1, 0), autopct=\"%1.1f%%\")\n",
    "ax[1].set_title(\"Success rate of trades\", fontsize=20)\n",
    "\n",
    "fig.tight_layout()"
   ]
  },
  {
   "cell_type": "code",
   "execution_count": null,
   "metadata": {},
   "outputs": [],
   "source": [
    "fig, ax = plt.subplots(nrows=2, figsize=(20,8))\n",
    "\n",
    "# plot closed prices and highlighted trades\n",
    "ax[0].plot(stock.data[\"Close\"], color=\"b\")\n",
    "for i, val in enumerate(bdg):\n",
    "    ax[0].axvspan(val, sdg[i], alpha=0.3, color=\"g\")\n",
    "for i, val in enumerate(bdb):\n",
    "    ax[0].axvspan(val, sdb[i], alpha=0.3, color=\"r\")\n",
    "ax[0].set_title(ticker + \": Overview of trades\", fontsize=20)\n",
    "ax[0].set_ylabel(\"Close price [USD]\", fontsize=16)\n",
    "ax[0].set_xlim([0, stock.data.shape[0]])\n",
    "\n",
    "ax[1].plot(ind.stoch(stock.data, period=21, sk=3, sd=5)[\"k\"])\n",
    "ax[1].plot(ind.stoch(stock.data, period=21, sk=3, sd=5)[\"d\"])\n",
    "ax[1].set_xlim([0, stock.data.shape[0]])\n",
    "ax[1].set_xlabel(\"Index [-]\", fontsize=16)"
   ]
  }
 ],
 "metadata": {
  "interpreter": {
   "hash": "0d0b38822259f8116a03f05c34cfa0235084065e1c7246efe532ebb10e7723c6"
  },
  "kernelspec": {
   "display_name": "Python 3",
   "language": "python",
   "name": "python3"
  },
  "language_info": {
   "codemirror_mode": {
    "name": "ipython",
    "version": 3
   },
   "file_extension": ".py",
   "mimetype": "text/x-python",
   "name": "python",
   "nbconvert_exporter": "python",
   "pygments_lexer": "ipython3",
   "version": "3.9.5"
  }
 },
 "nbformat": 4,
 "nbformat_minor": 2
}
