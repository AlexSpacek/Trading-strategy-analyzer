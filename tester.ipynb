{
 "cells": [
  {
   "cell_type": "markdown",
   "source": [
    "# Tester notebook\r\n",
    "\r\n",
    "This notebook aims to create enviroment to simply test strategies developed in Stocks & Loss system for python"
   ],
   "metadata": {}
  },
  {
   "cell_type": "code",
   "execution_count": null,
   "source": [
    "# imports \r\n",
    "from scraper import stock_daily\r\n",
    "from analyzer import Analyzer\r\n",
    "import numpy as np\r\n",
    "import pandas as pd\r\n",
    "from IPython.display import display"
   ],
   "outputs": [],
   "metadata": {}
  },
  {
   "cell_type": "markdown",
   "source": [
    "## Load stocks across industries"
   ],
   "metadata": {}
  },
  {
   "cell_type": "code",
   "execution_count": null,
   "source": [
    "xls = pd.ExcelFile('TickerPerSector.xls')\r\n",
    "fundTickers = pd.DataFrame()\r\n",
    "Tickers = pd.DataFrame()\r\n",
    "fundTickers[\"Fund/sector name\"] = xls.sheet_names\r\n",
    "# Tickers = pd.DataFrame(,columns=funTickers[\"Index fund name\"])\r\n",
    "for i in range(len(xls.sheet_names)):\r\n",
    "    sheet1 = pd.read_excel(xls, i)\r\n",
    "    fundTickers.loc[i,[\"Index fund ticker\"]] = sheet1.columns[1]\r\n",
    "    Tickers[fundTickers.loc[i,[\"Fund/sector name\"]]] = sheet1[sheet1.columns[1]][1:]\r\n",
    "pd.set_option('display.expand_frame_repr', False)    \r\n",
    "display(Tickers)"
   ],
   "outputs": [],
   "metadata": {}
  },
  {
   "cell_type": "markdown",
   "source": [
    "## Iterate over each industry"
   ],
   "metadata": {}
  },
  {
   "cell_type": "code",
   "execution_count": null,
   "source": [
    "# iterate over columns\r\n",
    "i = 0 \r\n",
    "results = []\r\n",
    "for label, tic in Tickers.iteritems():\r\n",
    "    results.append(pd.DataFrame(columns=[\"Ticker\", \"Trades\", \"Good trades\", \"Profit[%]\", \"Profit[$]\", \"Hold[%]\"]))\r\n",
    "    print(label)\r\n",
    "    # iterate over items in sectors / indexes\r\n",
    "    for j, val in tic.iteritems():\r\n",
    "        # analyze stock\r\n",
    "        try:\r\n",
    "            anal = Analyzer(ticker=val,data=stock_daily(val, save=False).data)\r\n",
    "            anal.strategy(buyStrategy=['Mcstoch_ut1','Mcstoch_ut2', 'Mcstoch_ut3', 'Mcstoch_ut4'],sellStrategy=['Mcstoch'],stopLoss=True,stopLossValue=0.05,profitTaker=True,profitTakerValue=0.1)\r\n",
    "            ts = anal.profit(capitalForEachTrade=400,comission=2)\r\n",
    "            # save data into dataframe\r\n",
    "            results[i].loc[j,[\"Ticker\"]] = val\r\n",
    "            results[i].loc[j,[\"Trades\"]] = ts.shape[0]\r\n",
    "            results[i].loc[j,[\"Good trades\"]] = ts[\"Good trade?\"].sum()\r\n",
    "            results[i].loc[j,[\"Profit[%]\"]] = ts[\"Profit[%]\"].sum()\r\n",
    "            results[i].loc[j,[\"Profit[$]\"]] = ts[\"Profit[%]\"].sum()\r\n",
    "            results[i].loc[j,[\"Hold[%]\"]] = 100*((anal.data[\"Close\"].iloc[-1]-anal.data[\"Close\"].iloc[0])/anal.data[\"Close\"].iloc[0])\r\n",
    "        except:\r\n",
    "            results[i].loc[j,[\"Ticker\"]] = val\r\n",
    "    i += 1"
   ],
   "outputs": [],
   "metadata": {}
  },
  {
   "cell_type": "code",
   "execution_count": null,
   "source": [
    "display(results[2])"
   ],
   "outputs": [],
   "metadata": {}
  }
 ],
 "metadata": {
  "orig_nbformat": 4,
  "language_info": {
   "name": "python",
   "version": "3.8.8",
   "mimetype": "text/x-python",
   "codemirror_mode": {
    "name": "ipython",
    "version": 3
   },
   "pygments_lexer": "ipython3",
   "nbconvert_exporter": "python",
   "file_extension": ".py"
  },
  "kernelspec": {
   "name": "python3",
   "display_name": "Python 3.8.8 64-bit ('base': conda)"
  },
  "interpreter": {
   "hash": "b3ba2566441a7c06988d0923437866b63cedc61552a5af99d1f4fb67d367b25f"
  }
 },
 "nbformat": 4,
 "nbformat_minor": 2
}