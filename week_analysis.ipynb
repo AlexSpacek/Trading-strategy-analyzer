{
 "metadata": {
  "language_info": {
   "codemirror_mode": {
    "name": "ipython",
    "version": 3
   },
   "file_extension": ".py",
   "mimetype": "text/x-python",
   "name": "python",
   "nbconvert_exporter": "python",
   "pygments_lexer": "ipython3",
   "version": "3.8.5"
  },
  "orig_nbformat": 2,
  "kernelspec": {
   "name": "python385jvsc74a57bd0b3ba2566441a7c06988d0923437866b63cedc61552a5af99d1f4fb67d367b25f",
   "display_name": "Python 3.8.5 64-bit ('base': conda)"
  }
 },
 "nbformat": 4,
 "nbformat_minor": 2,
 "cells": [
  {
   "source": [
    "# Week analysis\n",
    "\n",
    "Goal of this notebook is analyze last 10 trading days for specified stock and determine if the daily trade was profitable or not. Notebook assumes that trade happened in the days 5-10 and days 1-5 are analyzed for futher enhancing knowledge and stock screener settings.\n",
    "\n",
    "**For better analysis, run the notebook when market is closed**\n",
    "\n",
    "Results of the notebook are following:\n",
    "* Analysis if the trade was profitable, or if the stop loss was triggered\n",
    "* Following technical analysis:\n",
    "\n"
   ],
   "cell_type": "markdown",
   "metadata": {}
  },
  {
   "cell_type": "code",
   "execution_count": 1,
   "metadata": {},
   "outputs": [],
   "source": [
    "# general imports\n",
    "import pandas as pd\n",
    "import datetime as dt\n",
    "# imports stockandloss\n",
    "import scraper as sc\n",
    "import analyzer as an"
   ]
  },
  {
   "source": [
    "## General settings"
   ],
   "cell_type": "markdown",
   "metadata": {}
  },
  {
   "cell_type": "code",
   "execution_count": 2,
   "metadata": {},
   "outputs": [],
   "source": [
    "# stocks\n",
    "sh = \"AAIC\"\n",
    "\n",
    "# exit points [%]\n",
    "profit = 5\n",
    "loss = 2"
   ]
  },
  {
   "source": [
    "## Trade days (day 5-10)\n",
    "\n",
    "Analysis of days 5-10 where trade happened, assuming entry point at the open of day 5 (price taken as a first open value of that day)"
   ],
   "cell_type": "markdown",
   "metadata": {}
  },
  {
   "cell_type": "code",
   "execution_count": 3,
   "metadata": {},
   "outputs": [],
   "source": [
    "# stock \n",
    "# data scraper settings\n",
    "interval = \"1m\"\n",
    "# end date\n",
    "ed = dt.date.today()\n",
    "# number of days \n",
    "d = 7\n",
    "\n",
    "# scrape trade days data\n",
    "tdata, tinfo = sc.scrapstockdata(stockHandle=sh, d=d, i=interval, ed=ed)"
   ]
  },
  {
   "cell_type": "code",
   "execution_count": 4,
   "metadata": {},
   "outputs": [
    {
     "output_type": "stream",
     "name": "stdout",
     "text": [
      "\n",
      "Scraping https://finance.yahoo.com/\n",
      "Status: started\n",
      "Status: completed\n"
     ]
    }
   ],
   "source": [
    "# Evaluation\n",
    "# save "
   ]
  },
  {
   "source": [
    "## Before trade days (day 1-5)\n",
    "\n",
    "Analysis of days 1-5 mainly aimed for enhancing stock screener settings"
   ],
   "cell_type": "markdown",
   "metadata": {}
  },
  {
   "cell_type": "code",
   "execution_count": 5,
   "metadata": {},
   "outputs": [],
   "source": [
    "# stock \n",
    "# data scraper settings\n",
    "interval = \"1m\"\n",
    "# end date\n",
    "ed = dt.date.today() - dt.timedelta(days=7)\n",
    "# number of days \n",
    "d = 7\n",
    "\n",
    "# scrape trade days data\n",
    "bdata, binfo = sc.scrapstockdata(stockHandle=sh, d=d, i=interval, ed=ed)"
   ]
  }
 ]
}