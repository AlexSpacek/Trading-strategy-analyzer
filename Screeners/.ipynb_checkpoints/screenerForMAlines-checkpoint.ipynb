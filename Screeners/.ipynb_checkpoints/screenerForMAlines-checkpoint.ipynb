{
 "cells": [
  {
   "cell_type": "markdown",
   "metadata": {},
   "source": [
    "# Single analysis notebook\n",
    "\n",
    "This notebook aims to create enviroment to simply test strategies developed in Stocks & Loss system for python"
   ]
  },
  {
   "cell_type": "code",
   "execution_count": 2,
   "metadata": {},
   "outputs": [
    {
     "ename": "ModuleNotFoundError",
     "evalue": "No module named 'yfinance'",
     "output_type": "error",
     "traceback": [
      "\u001b[1;31m---------------------------------------------------------------------------\u001b[0m",
      "\u001b[1;31mModuleNotFoundError\u001b[0m                       Traceback (most recent call last)",
      "\u001b[1;32m<ipython-input-2-0d65f7d4e71c>\u001b[0m in \u001b[0;36m<module>\u001b[1;34m\u001b[0m\n\u001b[0;32m      3\u001b[0m \u001b[0mscraper_dir\u001b[0m \u001b[1;33m=\u001b[0m \u001b[1;33m(\u001b[0m\u001b[0mos\u001b[0m\u001b[1;33m.\u001b[0m\u001b[0mpath\u001b[0m\u001b[1;33m.\u001b[0m\u001b[0mabspath\u001b[0m\u001b[1;33m(\u001b[0m\u001b[0mos\u001b[0m\u001b[1;33m.\u001b[0m\u001b[0mpath\u001b[0m\u001b[1;33m.\u001b[0m\u001b[0mjoin\u001b[0m\u001b[1;33m(\u001b[0m\u001b[0mos\u001b[0m\u001b[1;33m.\u001b[0m\u001b[0mpath\u001b[0m\u001b[1;33m.\u001b[0m\u001b[0mabspath\u001b[0m\u001b[1;33m(\u001b[0m\u001b[1;34m''\u001b[0m\u001b[1;33m)\u001b[0m\u001b[1;33m,\u001b[0m \u001b[1;34m'..'\u001b[0m\u001b[1;33m)\u001b[0m\u001b[1;33m)\u001b[0m\u001b[1;33m)\u001b[0m\u001b[1;33m\u001b[0m\u001b[1;33m\u001b[0m\u001b[0m\n\u001b[0;32m      4\u001b[0m \u001b[0msys\u001b[0m\u001b[1;33m.\u001b[0m\u001b[0mpath\u001b[0m\u001b[1;33m.\u001b[0m\u001b[0mappend\u001b[0m\u001b[1;33m(\u001b[0m\u001b[0mscraper_dir\u001b[0m\u001b[1;33m)\u001b[0m\u001b[1;33m\u001b[0m\u001b[1;33m\u001b[0m\u001b[0m\n\u001b[1;32m----> 5\u001b[1;33m \u001b[1;32mfrom\u001b[0m \u001b[0mscraper\u001b[0m \u001b[1;32mimport\u001b[0m \u001b[0mstock_daily\u001b[0m\u001b[1;33m\u001b[0m\u001b[1;33m\u001b[0m\u001b[0m\n\u001b[0m\u001b[0;32m      6\u001b[0m \u001b[1;32mfrom\u001b[0m \u001b[0manalyzer\u001b[0m \u001b[1;32mimport\u001b[0m \u001b[0mAnalyzer\u001b[0m\u001b[1;33m\u001b[0m\u001b[1;33m\u001b[0m\u001b[0m\n\u001b[0;32m      7\u001b[0m \u001b[1;32mfrom\u001b[0m \u001b[0mIPython\u001b[0m\u001b[1;33m.\u001b[0m\u001b[0mdisplay\u001b[0m \u001b[1;32mimport\u001b[0m \u001b[0mdisplay\u001b[0m\u001b[1;33m\u001b[0m\u001b[1;33m\u001b[0m\u001b[0m\n",
      "\u001b[1;32m~\\Documents\\GitHub\\stocksandloss\\scraper.py\u001b[0m in \u001b[0;36m<module>\u001b[1;34m\u001b[0m\n\u001b[0;32m     10\u001b[0m \u001b[1;32mimport\u001b[0m \u001b[0mpandas\u001b[0m \u001b[1;32mas\u001b[0m \u001b[0mpd\u001b[0m\u001b[1;33m\u001b[0m\u001b[1;33m\u001b[0m\u001b[0m\n\u001b[0;32m     11\u001b[0m \u001b[1;32mimport\u001b[0m \u001b[0mdatetime\u001b[0m \u001b[1;32mas\u001b[0m \u001b[0mdt\u001b[0m\u001b[1;33m\u001b[0m\u001b[1;33m\u001b[0m\u001b[0m\n\u001b[1;32m---> 12\u001b[1;33m \u001b[1;32mimport\u001b[0m \u001b[0myfinance\u001b[0m \u001b[1;32mas\u001b[0m \u001b[0myf\u001b[0m\u001b[1;33m\u001b[0m\u001b[1;33m\u001b[0m\u001b[0m\n\u001b[0m\u001b[0;32m     13\u001b[0m \u001b[1;32mimport\u001b[0m \u001b[0mnumpy\u001b[0m \u001b[1;32mas\u001b[0m \u001b[0mnp\u001b[0m\u001b[1;33m\u001b[0m\u001b[1;33m\u001b[0m\u001b[0m\n\u001b[0;32m     14\u001b[0m \u001b[1;32mimport\u001b[0m \u001b[0mos\u001b[0m\u001b[1;33m\u001b[0m\u001b[1;33m\u001b[0m\u001b[0m\n",
      "\u001b[1;31mModuleNotFoundError\u001b[0m: No module named 'yfinance'"
     ]
    }
   ],
   "source": [
    "import sys, os.path\n",
    "import pandas as pd\n",
    "scraper_dir = (os.path.abspath(os.path.join(os.path.abspath(''), '..')))\n",
    "sys.path.append(scraper_dir)\n",
    "from scraper import stock_daily\n",
    "from analyzer import Analyzer\n",
    "from IPython.display import display\n",
    "import pandas as pd\n",
    "import datetime as dt\n",
    "import numpy as np\n",
    "import matplotlib.pyplot as plt\n",
    "import indicators as ind\n",
    "import warnings\n",
    "\n",
    "warnings.filterwarnings('ignore')"
   ]
  },
  {
   "cell_type": "markdown",
   "metadata": {},
   "source": [
    "## Settings\n",
    "* Select stock ticker\n",
    "* Define buy and sell strategy (buystrat and sellstrat)\n",
    "* Define if you want to run stop loss and what value\n",
    "* Same with profit taker"
   ]
  },
  {
   "cell_type": "code",
   "execution_count": 8,
   "metadata": {},
   "outputs": [],
   "source": [
    "xls = pd.ExcelFile((os.path.abspath(os.path.join(os.path.abspath(''), '..'))) + '/Data/tickers.xlsx')\n",
    "# stop loss\n",
    "sl = True\n",
    "slval = 0.04\n",
    "# profit taker\n",
    "pt = False\n",
    "ptval = 0.2\n",
    "# repeteated buys\n",
    "rb = False"
   ]
  },
  {
   "cell_type": "markdown",
   "metadata": {},
   "source": [
    "## Running calculation"
   ]
  },
  {
   "cell_type": "code",
   "execution_count": 3,
   "metadata": {},
   "outputs": [
    {
     "name": "stdout",
     "output_type": "stream",
     "text": [
      "  Fund/sector name\n",
      "0         filtered\n",
      "filtered\n",
      "- CATB: No data found, symbol may be delisted\n",
      "- HVBT: No data found, symbol may be delisted\n",
      "- RICE: No data found, symbol may be delisted\n",
      "- SPRT: No data found, symbol may be delisted\n"
     ]
    }
   ],
   "source": [
    "chosen = pd.DataFrame()\n",
    "fundTickers = pd.DataFrame()\n",
    "Tickers = pd.DataFrame()\n",
    "fundTickers[\"Fund/sector name\"] = xls.sheet_names\n",
    "print(fundTickers)\n",
    "# Tickers = pd.DataFrame(,columns=funTickers[\"Index fund name\"])\n",
    "for i in range(len(xls.sheet_names)):\n",
    "    sheet1 = pd.read_excel(xls, i)\n",
    "    fundTickers.loc[i,[\"Fund/sector ticker\"]] = sheet1.columns[1]\n",
    "    Tickers[fundTickers.loc[i,[\"Fund/sector name\"]]] = sheet1[sheet1.columns[1]][1:]\n",
    "pd.set_option('display.expand_frame_repr', False)    \n",
    "# display(Tickers)\n",
    "# I have the initialization here on purpose, to measure its impact\n",
    "col = [\"Ticker\", \"Trades\", \"Good trades\", \"Profit[%]\", \"Profit[$]\", \"Hold[%]\"]\n",
    "results = [None] * Tickers.columns.shape[0]\n",
    "for k in range(Tickers.columns.shape[0]):\n",
    "    # when I tried to initialize results as [dataframe] * 10 it created list of identical dataframes and when i changed one, it changed them all. Interesting\n",
    "    results[k] = pd.DataFrame(data=np.zeros([Tickers.shape[0], len(col)]),columns=col)\n",
    "# iterate over columns\n",
    "i = 0 \n",
    "for label, tic in Tickers.iteritems():\n",
    "    print(label)\n",
    "    # iterate over items in sectors / indexes\n",
    "    for j, val in tic.iteritems():\n",
    "        # j starts at 1, instead of usual 0 => reason why there is -1 everywhere\n",
    "        # analyze stock\n",
    "        try:\n",
    "            stock = stock_daily(val, save=False)\n",
    "            trades = Analyzer(ticker=val,data=stock.data)\n",
    "            SMA = 200\n",
    "            bounces = trades.bouncesFrom_SMA(SMA)\n",
    "            smaLine=ind.sma(stock.data,SMA,price=\"Close\")[\"SMA\"]\n",
    "            dropsBelowSMA = np.where(stock.data[\"Close\"][-200:]-smaLine[-200:]<0)[0]  #we look at stock that are above the given SMA line for the past 100 days\n",
    "            if bounces.size>1 and dropsBelowSMA.size == 0 and (stock.data[\"Close\"].iat[-1]-smaLine.iat[-1])/smaLine.iloc[-1]<0.05: #previous bounces from SMA, above SMA for 100 days and just above SMA the previous day\n",
    "                chosen = chosen.append({\"Bounces\": bounces.size,\"MA\": SMA,\"Ticker\": stock.ticker}, ignore_index=True)\n",
    "                # print(stock.ticker,\"had\",bounces.size,\"bounces from \",SMA,\"SMA in the past\",SMA,\"days and is currently <5% higher.\")            \n",
    "            SMA = 150\n",
    "            bounces = trades.bouncesFrom_SMA(SMA)\n",
    "            smaLine=ind.sma(stock.data,SMA,price=\"Close\")[\"SMA\"]\n",
    "            dropsBelowSMA = np.where(stock.data[\"Close\"][-150:]-smaLine[-150:]<0)[0]\n",
    "            if bounces.size>1 and dropsBelowSMA.size == 0 and (stock.data[\"Close\"].iat[-1]-smaLine.iat[-1])/smaLine.iat[-1]<0.05:\n",
    "                chosen = chosen.append({\"Bounces\": bounces.size,\"MA\": SMA,\"Ticker\": stock.ticker}, ignore_index=True)\n",
    "                # print(stock.ticker,\"had\",bounces.size,\"bounces from \",SMA,\"SMA in the past\",SMA,\"days and is currently <5% higher.\")           \n",
    "            SMA = 100\n",
    "            bounces = trades.bouncesFrom_SMA(SMA)\n",
    "            smaLine=ind.sma(stock.data,SMA,price=\"Close\")[\"SMA\"]\n",
    "            dropsBelowSMA = np.where(stock.data[\"Close\"][-100:]-smaLine[-100:]<0)[0]\n",
    "            if bounces.size>1 and dropsBelowSMA.size == 0 and (stock.data[\"Close\"].iat[-1]-smaLine.iat[-1])/smaLine.iat[-1]<0.05:\n",
    "                chosen = chosen.append({\"Bounces\": bounces.size,\"MA\": SMA,\"Ticker\": stock.ticker}, ignore_index=True)\n",
    "                # print(stock.ticker,\"had\",bounces.size,\"bounces from \",SMA,\"SMA in the past\",SMA,\"days and is currently <5% higher.\")                \n",
    "            SMA = 50\n",
    "            bounces = trades.bouncesFrom_SMA(SMA)\n",
    "            smaLine=ind.sma(stock.data,SMA,price=\"Close\")[\"SMA\"]\n",
    "            dropsBelowSMA = np.where(stock.data[\"Close\"][-50:]-smaLine[-50:]<0)[0]\n",
    "            if bounces.size>1 and dropsBelowSMA.size == 0 and (stock.data[\"Close\"].iat[-1]-smaLine.iat[-1])/smaLine.iat[-1]<0.05:\n",
    "                chosen = chosen.append({\"Bounces\": bounces.size,\"MA\": SMA,\"Ticker\": stock.ticker}, ignore_index=True)\n",
    "                # print(stock.ticker,\"had\",bounces.size,\"bounces from \",SMA,\"SMA in the past\",SMA,\"days and is currently <5% higher.\")                    \n",
    "            SMA = 26\n",
    "            bounces = trades.bouncesFrom_SMA(SMA)\n",
    "            smaLine=ind.sma(stock.data,SMA,price=\"Close\")[\"SMA\"]\n",
    "            dropsBelowSMA = np.where(stock.data[\"Close\"][-26:]-smaLine[-26:]<0)[0]\n",
    "            if bounces.size>1 and dropsBelowSMA.size == 0 and (stock.data[\"Close\"].iat[-1]-smaLine.iat[-1])/smaLine.iat[-1]<0.05:\n",
    "                chosen = chosen.append({\"Bounces\": bounces.size,\"MA\": SMA,\"Ticker\": stock.ticker}, ignore_index=True)\n",
    "                # print(stock.ticker,\"had\",bounces.size,\"bounces from \",SMA,\"SMA in the past\",SMA,\"days and is currently <5% higher.\")                       \n",
    "            SMA = 13\n",
    "            bounces = trades.bouncesFrom_SMA(SMA)\n",
    "            smaLine=ind.sma(stock.data,SMA,price=\"Close\")[\"SMA\"]\n",
    "            dropsBelowSMA = np.where(stock.data[\"Close\"][-13:]-smaLine[-13:]<0)[0]\n",
    "            if bounces.size>1 and dropsBelowSMA.size == 0 and (stock.data[\"Close\"].iat[-1]-smaLine.iat[-1])/smaLine.iat[-1]<0.05:\n",
    "                chosen = chosen.append({\"Bounces\": bounces.size,\"MA\": SMA,\"Ticker\": stock.ticker}, ignore_index=True)\n",
    "                # print(stock.ticker,\"had\",bounces.size,\"bounces from \",SMA,\"SMA in the past\",SMA,\"days and is currently <5% higher.\")                    \n",
    "        except:\n",
    "            results[i].loc[j-1,[\"Ticker\"]] = val         "
   ]
  },
  {
   "cell_type": "code",
   "execution_count": 4,
   "metadata": {},
   "outputs": [
    {
     "name": "stdout",
     "output_type": "stream",
     "text": [
      "   Bounces     MA Ticker\n",
      "0      2.0  200.0    DAR\n"
     ]
    }
   ],
   "source": [
    "print(chosen)\n",
    "chosen.to_excel('smaRussel.xlsx')"
   ]
  },
  {
   "cell_type": "markdown",
   "metadata": {},
   "source": [
    "## Building the trade strategy"
   ]
  },
  {
   "cell_type": "code",
   "execution_count": 5,
   "metadata": {},
   "outputs": [],
   "source": [
    "# building buy signals\n",
    "# defining uptrend\n",
    "up = (ind.ema(stock.data, w=13)[\"EMA\"] > ind.ema(stock.data, w=50)[\"EMA\"]).to_numpy()\n",
    "# buy signals in uptrend\n",
    "bsu = np.logical_and(trades.mb_stoch(period=21, sk=3, sd=5, treshold=20), up)\n",
    "# buy signals in downtrend\n",
    "bsd = np.logical_and(trades.mb_stoch(period=21, sk=3, sd=5, treshold=50), np.logical_not(up))\n",
    "# finalize buy signals\n",
    "bsf = np.logical_or(bsu, bsd)\n",
    "#buy signal from sma cross\n",
    "\n",
    "# throw exception if buy signal is empty\n",
    "if bsf.sum() == 0:\n",
    "    raise RuntimeError(\"No buy signals were generated by this strategy.\")\n",
    "# for N buy signals, create N sell vectors where Nth column will be the sell signal for Nth buy signal, \n",
    "# some sell methods that are independent will have copied columns\n",
    "bsf2 = bsf*1\n",
    "ss = trades.ms_smacross(fast=5, slow=20)\n",
    "\n",
    "ssf = np.repeat([ss,], repeats=np.sum(bsf), axis=0)\n",
    "# sort signals \n",
    "ss = trades.signalSorter(bsf2,ssf,rb) "
   ]
  },
  {
   "cell_type": "code",
   "execution_count": 6,
   "metadata": {},
   "outputs": [],
   "source": [
    "# building final strategy\n",
    "trades.strategy(ss, stopLoss=sl, stopLossValue=slval, profitTaker=pt, profitTakerValue=ptval)\n",
    "# evaluating strategy\n",
    "summary = trades.profit(capitalForEachTrade=400, comission=2)\n",
    "profitByHolding = 100*((trades.data[\"Close\"].iloc[-1]-trades.data[\"Close\"].iloc[0])/trades.data[\"Close\"].iloc[0])\n",
    "\n",
    "# dates for plot\n",
    "# taking stock.data and changing index to column and Date to index\n",
    "dates = stock.data.copy()\n",
    "dates[\"index1\"] = dates.index\n",
    "dates = dates.set_index(\"Date\")\n",
    "\n",
    "# find index of buy dates of good trades\n",
    "bdg = summary[\"Buy date\"].where(summary[\"Good trade?\"].astype(\"bool\")).dropna().to_numpy()\n",
    "sdg = summary[\"Sell date\"].where(summary[\"Good trade?\"].astype(\"bool\")).dropna().to_numpy()\n",
    "bdg = dates[\"index1\"].reindex(bdg).to_numpy()\n",
    "sdg = dates[\"index1\"].reindex(sdg).to_numpy()\n",
    "   \n",
    "# find index of buy dates of bad trades\n",
    "bdb = summary[\"Buy date\"].where(~summary[\"Good trade?\"].astype(\"bool\")).dropna().to_numpy()\n",
    "sdb = summary[\"Sell date\"].where(~summary[\"Good trade?\"].astype(\"bool\")).dropna().to_numpy()\n",
    "bdb = dates[\"index1\"].reindex(bdb).to_numpy()\n",
    "sdb = dates[\"index1\"].reindex(sdb).to_numpy()"
   ]
  },
  {
   "cell_type": "markdown",
   "metadata": {},
   "source": [
    "# Results"
   ]
  },
  {
   "cell_type": "code",
   "execution_count": 7,
   "metadata": {},
   "outputs": [
    {
     "name": "stdout",
     "output_type": "stream",
     "text": [
      "Absolute profit last year:                 -73.69 $\n",
      "Relative profit last year:                 -18.42 %\n",
      "Relative profit by holding last year:      87.81 %\n"
     ]
    }
   ],
   "source": [
    "print('Absolute profit last year:                ',np.round(summary[\"Profit[$]\"].sum(),2),'$')\n",
    "print('Relative profit last year:                ',np.round(summary[\"Profit[%]\"].sum(),2),'%')\n",
    "print('Relative profit by holding last year:     ',np.round(profitByHolding,2),'%')"
   ]
  },
  {
   "cell_type": "code",
   "execution_count": 8,
   "metadata": {},
   "outputs": [
    {
     "data": {
      "text/html": [
       "<div>\n",
       "<style scoped>\n",
       "    .dataframe tbody tr th:only-of-type {\n",
       "        vertical-align: middle;\n",
       "    }\n",
       "\n",
       "    .dataframe tbody tr th {\n",
       "        vertical-align: top;\n",
       "    }\n",
       "\n",
       "    .dataframe thead th {\n",
       "        text-align: right;\n",
       "    }\n",
       "</style>\n",
       "<table border=\"1\" class=\"dataframe\">\n",
       "  <thead>\n",
       "    <tr style=\"text-align: right;\">\n",
       "      <th></th>\n",
       "      <th>Buy date</th>\n",
       "      <th>Buy price</th>\n",
       "      <th>Buy value</th>\n",
       "      <th>Position</th>\n",
       "      <th>Sell date</th>\n",
       "      <th>Sell price</th>\n",
       "      <th>Sell value</th>\n",
       "      <th>Comission</th>\n",
       "      <th>Good trade?</th>\n",
       "      <th>Profit[$]</th>\n",
       "      <th>Profit[%]</th>\n",
       "    </tr>\n",
       "  </thead>\n",
       "  <tbody>\n",
       "    <tr>\n",
       "      <th>0</th>\n",
       "      <td>2021-01-12</td>\n",
       "      <td>95.360001</td>\n",
       "      <td>400</td>\n",
       "      <td>4.194631</td>\n",
       "      <td>2021-01-13</td>\n",
       "      <td>91.545601</td>\n",
       "      <td>384.000000</td>\n",
       "      <td>2</td>\n",
       "      <td>0.0</td>\n",
       "      <td>-18.000000</td>\n",
       "      <td>-4.500000</td>\n",
       "    </tr>\n",
       "    <tr>\n",
       "      <th>1</th>\n",
       "      <td>2021-04-07</td>\n",
       "      <td>82.199997</td>\n",
       "      <td>400</td>\n",
       "      <td>4.866180</td>\n",
       "      <td>2021-04-12</td>\n",
       "      <td>78.911997</td>\n",
       "      <td>384.000000</td>\n",
       "      <td>2</td>\n",
       "      <td>0.0</td>\n",
       "      <td>-18.000000</td>\n",
       "      <td>-4.500000</td>\n",
       "    </tr>\n",
       "    <tr>\n",
       "      <th>2</th>\n",
       "      <td>2021-06-02</td>\n",
       "      <td>81.970001</td>\n",
       "      <td>400</td>\n",
       "      <td>4.879834</td>\n",
       "      <td>2021-07-16</td>\n",
       "      <td>85.889999</td>\n",
       "      <td>419.128940</td>\n",
       "      <td>2</td>\n",
       "      <td>1.0</td>\n",
       "      <td>17.128940</td>\n",
       "      <td>4.282235</td>\n",
       "    </tr>\n",
       "    <tr>\n",
       "      <th>3</th>\n",
       "      <td>2021-07-22</td>\n",
       "      <td>91.209999</td>\n",
       "      <td>400</td>\n",
       "      <td>4.385484</td>\n",
       "      <td>2021-07-23</td>\n",
       "      <td>92.150002</td>\n",
       "      <td>404.122366</td>\n",
       "      <td>2</td>\n",
       "      <td>1.0</td>\n",
       "      <td>2.122366</td>\n",
       "      <td>0.530591</td>\n",
       "    </tr>\n",
       "    <tr>\n",
       "      <th>4</th>\n",
       "      <td>2021-08-13</td>\n",
       "      <td>110.550003</td>\n",
       "      <td>400</td>\n",
       "      <td>3.618272</td>\n",
       "      <td>2021-08-16</td>\n",
       "      <td>106.128003</td>\n",
       "      <td>384.000000</td>\n",
       "      <td>2</td>\n",
       "      <td>0.0</td>\n",
       "      <td>-18.000000</td>\n",
       "      <td>-4.500000</td>\n",
       "    </tr>\n",
       "    <tr>\n",
       "      <th>5</th>\n",
       "      <td>2021-08-24</td>\n",
       "      <td>107.650002</td>\n",
       "      <td>400</td>\n",
       "      <td>3.715745</td>\n",
       "      <td>2021-08-25</td>\n",
       "      <td>108.300003</td>\n",
       "      <td>402.415240</td>\n",
       "      <td>2</td>\n",
       "      <td>1.0</td>\n",
       "      <td>0.415240</td>\n",
       "      <td>0.103810</td>\n",
       "    </tr>\n",
       "    <tr>\n",
       "      <th>6</th>\n",
       "      <td>2021-09-03</td>\n",
       "      <td>109.919998</td>\n",
       "      <td>400</td>\n",
       "      <td>3.639010</td>\n",
       "      <td>2021-09-08</td>\n",
       "      <td>105.523198</td>\n",
       "      <td>384.000000</td>\n",
       "      <td>2</td>\n",
       "      <td>0.0</td>\n",
       "      <td>-18.000000</td>\n",
       "      <td>-4.500000</td>\n",
       "    </tr>\n",
       "    <tr>\n",
       "      <th>7</th>\n",
       "      <td>2021-09-16</td>\n",
       "      <td>106.220001</td>\n",
       "      <td>400</td>\n",
       "      <td>3.765769</td>\n",
       "      <td>2021-09-17</td>\n",
       "      <td>103.879997</td>\n",
       "      <td>391.188085</td>\n",
       "      <td>2</td>\n",
       "      <td>0.0</td>\n",
       "      <td>-10.811915</td>\n",
       "      <td>-2.702979</td>\n",
       "    </tr>\n",
       "    <tr>\n",
       "      <th>8</th>\n",
       "      <td>2021-09-23</td>\n",
       "      <td>106.150002</td>\n",
       "      <td>400</td>\n",
       "      <td>3.768252</td>\n",
       "      <td>2021-09-24</td>\n",
       "      <td>105.800003</td>\n",
       "      <td>398.681117</td>\n",
       "      <td>2</td>\n",
       "      <td>0.0</td>\n",
       "      <td>-3.318883</td>\n",
       "      <td>-0.829721</td>\n",
       "    </tr>\n",
       "    <tr>\n",
       "      <th>9</th>\n",
       "      <td>2021-10-07</td>\n",
       "      <td>106.449997</td>\n",
       "      <td>400</td>\n",
       "      <td>3.757633</td>\n",
       "      <td>2021-10-08</td>\n",
       "      <td>105.059998</td>\n",
       "      <td>394.776893</td>\n",
       "      <td>2</td>\n",
       "      <td>0.0</td>\n",
       "      <td>-7.223107</td>\n",
       "      <td>-1.805777</td>\n",
       "    </tr>\n",
       "  </tbody>\n",
       "</table>\n",
       "</div>"
      ],
      "text/plain": [
       "    Buy date   Buy price  Buy value  Position  Sell date  Sell price  Sell value  Comission  Good trade?  Profit[$]  Profit[%]\n",
       "0 2021-01-12   95.360001        400  4.194631 2021-01-13   91.545601  384.000000          2          0.0 -18.000000  -4.500000\n",
       "1 2021-04-07   82.199997        400  4.866180 2021-04-12   78.911997  384.000000          2          0.0 -18.000000  -4.500000\n",
       "2 2021-06-02   81.970001        400  4.879834 2021-07-16   85.889999  419.128940          2          1.0  17.128940   4.282235\n",
       "3 2021-07-22   91.209999        400  4.385484 2021-07-23   92.150002  404.122366          2          1.0   2.122366   0.530591\n",
       "4 2021-08-13  110.550003        400  3.618272 2021-08-16  106.128003  384.000000          2          0.0 -18.000000  -4.500000\n",
       "5 2021-08-24  107.650002        400  3.715745 2021-08-25  108.300003  402.415240          2          1.0   0.415240   0.103810\n",
       "6 2021-09-03  109.919998        400  3.639010 2021-09-08  105.523198  384.000000          2          0.0 -18.000000  -4.500000\n",
       "7 2021-09-16  106.220001        400  3.765769 2021-09-17  103.879997  391.188085          2          0.0 -10.811915  -2.702979\n",
       "8 2021-09-23  106.150002        400  3.768252 2021-09-24  105.800003  398.681117          2          0.0  -3.318883  -0.829721\n",
       "9 2021-10-07  106.449997        400  3.757633 2021-10-08  105.059998  394.776893          2          0.0  -7.223107  -1.805777"
      ]
     },
     "metadata": {},
     "output_type": "display_data"
    }
   ],
   "source": [
    "display(summary)"
   ]
  },
  {
   "cell_type": "markdown",
   "metadata": {},
   "source": [
    "## Visualizations\n",
    "\n",
    "Successful trades are showcased as a light green fill, similarly, failed trades as a red fill"
   ]
  },
  {
   "cell_type": "code",
   "execution_count": 9,
   "metadata": {},
   "outputs": [
    {
     "ename": "NameError",
     "evalue": "name 'ticker' is not defined",
     "output_type": "error",
     "traceback": [
      "\u001b[1;31m---------------------------------------------------------------------------\u001b[0m",
      "\u001b[1;31mNameError\u001b[0m                                 Traceback (most recent call last)",
      "\u001b[1;32m<ipython-input-9-5c7219031235>\u001b[0m in \u001b[0;36m<module>\u001b[1;34m\u001b[0m\n\u001b[0;32m      7\u001b[0m \u001b[1;32mfor\u001b[0m \u001b[0mi\u001b[0m\u001b[1;33m,\u001b[0m \u001b[0mval\u001b[0m \u001b[1;32min\u001b[0m \u001b[0menumerate\u001b[0m\u001b[1;33m(\u001b[0m\u001b[0mbdb\u001b[0m\u001b[1;33m)\u001b[0m\u001b[1;33m:\u001b[0m\u001b[1;33m\u001b[0m\u001b[1;33m\u001b[0m\u001b[0m\n\u001b[0;32m      8\u001b[0m     \u001b[0max\u001b[0m\u001b[1;33m[\u001b[0m\u001b[1;36m0\u001b[0m\u001b[1;33m]\u001b[0m\u001b[1;33m.\u001b[0m\u001b[0maxvspan\u001b[0m\u001b[1;33m(\u001b[0m\u001b[0mval\u001b[0m\u001b[1;33m,\u001b[0m \u001b[0msdb\u001b[0m\u001b[1;33m[\u001b[0m\u001b[0mi\u001b[0m\u001b[1;33m]\u001b[0m\u001b[1;33m,\u001b[0m \u001b[0malpha\u001b[0m\u001b[1;33m=\u001b[0m\u001b[1;36m0.3\u001b[0m\u001b[1;33m,\u001b[0m \u001b[0mcolor\u001b[0m\u001b[1;33m=\u001b[0m\u001b[1;34m\"r\"\u001b[0m\u001b[1;33m)\u001b[0m\u001b[1;33m\u001b[0m\u001b[1;33m\u001b[0m\u001b[0m\n\u001b[1;32m----> 9\u001b[1;33m \u001b[0max\u001b[0m\u001b[1;33m[\u001b[0m\u001b[1;36m0\u001b[0m\u001b[1;33m]\u001b[0m\u001b[1;33m.\u001b[0m\u001b[0mset_title\u001b[0m\u001b[1;33m(\u001b[0m\u001b[0mticker\u001b[0m \u001b[1;33m+\u001b[0m \u001b[1;34m\": Overview of trades\"\u001b[0m\u001b[1;33m,\u001b[0m \u001b[0mfontsize\u001b[0m\u001b[1;33m=\u001b[0m\u001b[1;36m20\u001b[0m\u001b[1;33m)\u001b[0m\u001b[1;33m\u001b[0m\u001b[1;33m\u001b[0m\u001b[0m\n\u001b[0m\u001b[0;32m     10\u001b[0m \u001b[0max\u001b[0m\u001b[1;33m[\u001b[0m\u001b[1;36m0\u001b[0m\u001b[1;33m]\u001b[0m\u001b[1;33m.\u001b[0m\u001b[0mset_ylabel\u001b[0m\u001b[1;33m(\u001b[0m\u001b[1;34m\"Close price [USD]\"\u001b[0m\u001b[1;33m,\u001b[0m \u001b[0mfontsize\u001b[0m\u001b[1;33m=\u001b[0m\u001b[1;36m16\u001b[0m\u001b[1;33m)\u001b[0m\u001b[1;33m\u001b[0m\u001b[1;33m\u001b[0m\u001b[0m\n\u001b[0;32m     11\u001b[0m \u001b[0max\u001b[0m\u001b[1;33m[\u001b[0m\u001b[1;36m0\u001b[0m\u001b[1;33m]\u001b[0m\u001b[1;33m.\u001b[0m\u001b[0mset_xlabel\u001b[0m\u001b[1;33m(\u001b[0m\u001b[1;34m\"Index [-]\"\u001b[0m\u001b[1;33m,\u001b[0m \u001b[0mfontsize\u001b[0m\u001b[1;33m=\u001b[0m\u001b[1;36m16\u001b[0m\u001b[1;33m)\u001b[0m\u001b[1;33m\u001b[0m\u001b[1;33m\u001b[0m\u001b[0m\n",
      "\u001b[1;31mNameError\u001b[0m: name 'ticker' is not defined"
     ]
    },
    {
     "data": {
      "image/png": "[encoded data removed]",
      "text/plain": [
       "<Figure size 1440x432 with 2 Axes>"
      ]
     },
     "metadata": {
      "needs_background": "light"
     },
     "output_type": "display_data"
    }
   ],
   "source": [
    "fig, ax = plt.subplots(ncols=2, figsize=(20,6), gridspec_kw={'width_ratios': [2.5, 1]})\n",
    "\n",
    "# plot closed prices and highlighted trades\n",
    "ax[0].plot(stock.data[\"Close\"], color=\"b\")\n",
    "for i, val in enumerate(bdg):\n",
    "    ax[0].axvspan(val, sdg[i], alpha=0.3, color=\"g\")\n",
    "for i, val in enumerate(bdb):\n",
    "    ax[0].axvspan(val, sdb[i], alpha=0.3, color=\"r\")\n",
    "ax[0].set_title(ticker + \": Overview of trades\", fontsize=20)\n",
    "ax[0].set_ylabel(\"Close price [USD]\", fontsize=16)\n",
    "ax[0].set_xlabel(\"Index [-]\", fontsize=16)\n",
    "\n",
    "gtrades = summary[\"Good trade?\"].sum()\n",
    "trades = summary[\"Good trade?\"].size\n",
    "# plot piechart with percentage of succesful trades (profit / loss)\n",
    "ax[1].pie([gtrades, trades-gtrades], colors=[\"g\",\"r\"], shadow=True, explode=(0.1, 0), autopct=\"%1.1f%%\")\n",
    "ax[1].set_title(\"Success rate of trades\", fontsize=20)\n",
    "\n",
    "fig.tight_layout()"
   ]
  },
  {
   "cell_type": "code",
   "execution_count": null,
   "metadata": {},
   "outputs": [],
   "source": [
    "fig, ax = plt.subplots(nrows=2, figsize=(20,8))\n",
    "\n",
    "# plot closed prices and highlighted trades\n",
    "ax[0].plot(stock.data[\"Close\"], color=\"b\")\n",
    "for i, val in enumerate(bdg):\n",
    "    ax[0].axvspan(val, sdg[i], alpha=0.3, color=\"g\")\n",
    "for i, val in enumerate(bdb):\n",
    "    ax[0].axvspan(val, sdb[i], alpha=0.3, color=\"r\")\n",
    "ax[0].set_title(ticker + \": Overview of trades\", fontsize=20)\n",
    "ax[0].set_ylabel(\"Close price [USD]\", fontsize=16)\n",
    "ax[0].set_xlim([0, stock.data.shape[0]])\n",
    "\n",
    "ax[1].plot(ind.stoch(stock.data, period=21, sk=3, sd=5)[\"k\"])\n",
    "ax[1].plot(ind.stoch(stock.data, period=21, sk=3, sd=5)[\"d\"])\n",
    "ax[1].set_xlim([0, stock.data.shape[0]])\n",
    "ax[1].set_xlabel(\"Index [-]\", fontsize=16)"
   ]
  }
 ],
 "metadata": {
  "interpreter": {
   "hash": "0d0b38822259f8116a03f05c34cfa0235084065e1c7246efe532ebb10e7723c6"
  },
  "kernelspec": {
   "display_name": "Python 3",
   "language": "python",
   "name": "python3"
  },
  "language_info": {
   "codemirror_mode": {
    "name": "ipython",
    "version": 3
   },
   "file_extension": ".py",
   "mimetype": "text/x-python",
   "name": "python",
   "nbconvert_exporter": "python",
   "pygments_lexer": "ipython3",
   "version": "3.8.5"
  }
 },
 "nbformat": 4,
 "nbformat_minor": 2
}
